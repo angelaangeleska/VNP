{
 "cells": [
  {
   "cell_type": "markdown",
   "metadata": {
    "id": "rODb9vHvIEbp"
   },
   "source": [
    "# Requirements"
   ]
  },
  {
   "cell_type": "code",
   "execution_count": 1,
   "metadata": {
    "id": "U4KmHBd2cdx9"
   },
   "outputs": [],
   "source": [
    "import keras\n",
    "import pandas as pd\n",
    "import seaborn as sns\n",
    "\n",
    "from transformers import pipeline\n",
    "from sklearn.model_selection import train_test_split\n",
    "from sklearn.preprocessing import MinMaxScaler\n",
    "from sklearn.metrics import *\n",
    "from keras.models import Sequential\n",
    "from keras.layers import Input, LSTM, Dense"
   ]
  },
  {
   "cell_type": "markdown",
   "metadata": {
    "id": "KNMMoUiUIW3L"
   },
   "source": [
    "# Laboratory Exercise - Run Mode (8 points)"
   ]
  },
  {
   "cell_type": "markdown",
   "metadata": {
    "id": "_rAh_91OIjeS"
   },
   "source": [
    "## Introduction\n",
    "In this laboratory assignment, the primary objective is to use Long Short-Term Memory (LSTM) networks for time series forecasting in order to predict the current **close price** of the Dow Jones Industrial Average index. To accomplish this use data from the past 7 days, which includes numeric information and news information. The goal is to employ LSTM, a type of recurrent neural network, to effectively forecast one future step for the index price (the following day).\n"
   ]
  },
  {
   "cell_type": "markdown",
   "metadata": {
    "id": "zBYI-EypaWom"
   },
   "source": [
    "## The DIJA Dataset\n",
    "\n",
    "This dataset consists of daily price records for the value of the Dow Jones Industrial Average index. The dataset includes the following attributes:\n",
    "\n",
    "- Date - date in the format YYYY-MM-DD,\n",
    "- Open - open price of the index on the specified date\n",
    "- Close - close price of the index on the specified date\n",
    "- High - high price of the index on the specified date\n",
    "- Low - low price of the index on the specified date\n",
    "- Volume - number of trades\n",
    "\n"
   ]
  },
  {
   "cell_type": "markdown",
   "metadata": {},
   "source": [
    "## The Reddit News Dataset"
   ]
  },
  {
   "cell_type": "markdown",
   "metadata": {},
   "source": [
    "This dataset consists of news headlines for a certain date that might impact the price:\n",
    "\n",
    "- Date - date in the format YYYY-MM-DD,\n",
    "- News - news headline scraped from Reddit\n",
    "\n",
    "<b>Note: You might have multiple headlines for each date. The number of news per date might not be the same for each date. <b>"
   ]
  },
  {
   "cell_type": "markdown",
   "metadata": {
    "id": "DCm1qm1mZwMr"
   },
   "source": [
    "Load the datasets into a `pandas` data frame."
   ]
  },
  {
   "cell_type": "code",
   "execution_count": 2,
   "metadata": {
    "id": "KMOn4fgcZn8s"
   },
   "outputs": [
    {
     "data": {
      "text/html": [
       "<div>\n",
       "<style scoped>\n",
       "    .dataframe tbody tr th:only-of-type {\n",
       "        vertical-align: middle;\n",
       "    }\n",
       "\n",
       "    .dataframe tbody tr th {\n",
       "        vertical-align: top;\n",
       "    }\n",
       "\n",
       "    .dataframe thead th {\n",
       "        text-align: right;\n",
       "    }\n",
       "</style>\n",
       "<table border=\"1\" class=\"dataframe\">\n",
       "  <thead>\n",
       "    <tr style=\"text-align: right;\">\n",
       "      <th></th>\n",
       "      <th>Date</th>\n",
       "      <th>Open</th>\n",
       "      <th>High</th>\n",
       "      <th>Low</th>\n",
       "      <th>Close</th>\n",
       "      <th>Volume</th>\n",
       "    </tr>\n",
       "  </thead>\n",
       "  <tbody>\n",
       "    <tr>\n",
       "      <th>0</th>\n",
       "      <td>7/1/2016</td>\n",
       "      <td>17924.24023</td>\n",
       "      <td>18002.38086</td>\n",
       "      <td>17916.91016</td>\n",
       "      <td>17949.36914</td>\n",
       "      <td>82160000</td>\n",
       "    </tr>\n",
       "    <tr>\n",
       "      <th>1</th>\n",
       "      <td>6/30/2016</td>\n",
       "      <td>17712.75977</td>\n",
       "      <td>17930.60938</td>\n",
       "      <td>17711.80078</td>\n",
       "      <td>17929.99023</td>\n",
       "      <td>133030000</td>\n",
       "    </tr>\n",
       "    <tr>\n",
       "      <th>2</th>\n",
       "      <td>6/29/2016</td>\n",
       "      <td>17456.01953</td>\n",
       "      <td>17704.50977</td>\n",
       "      <td>17456.01953</td>\n",
       "      <td>17694.67969</td>\n",
       "      <td>106380000</td>\n",
       "    </tr>\n",
       "    <tr>\n",
       "      <th>3</th>\n",
       "      <td>6/28/2016</td>\n",
       "      <td>17190.50977</td>\n",
       "      <td>17409.72070</td>\n",
       "      <td>17190.50977</td>\n",
       "      <td>17409.72070</td>\n",
       "      <td>112190000</td>\n",
       "    </tr>\n",
       "    <tr>\n",
       "      <th>4</th>\n",
       "      <td>6/27/2016</td>\n",
       "      <td>17355.21094</td>\n",
       "      <td>17355.21094</td>\n",
       "      <td>17063.08008</td>\n",
       "      <td>17140.24023</td>\n",
       "      <td>138740000</td>\n",
       "    </tr>\n",
       "  </tbody>\n",
       "</table>\n",
       "</div>"
      ],
      "text/plain": [
       "        Date         Open         High          Low        Close     Volume\n",
       "0   7/1/2016  17924.24023  18002.38086  17916.91016  17949.36914   82160000\n",
       "1  6/30/2016  17712.75977  17930.60938  17711.80078  17929.99023  133030000\n",
       "2  6/29/2016  17456.01953  17704.50977  17456.01953  17694.67969  106380000\n",
       "3  6/28/2016  17190.50977  17409.72070  17190.50977  17409.72070  112190000\n",
       "4  6/27/2016  17355.21094  17355.21094  17063.08008  17140.24023  138740000"
      ]
     },
     "execution_count": 2,
     "metadata": {},
     "output_type": "execute_result"
    }
   ],
   "source": [
    "dija = pd.read_csv(\"data/DJIA_table.csv\")\n",
    "dija.head()"
   ]
  },
  {
   "cell_type": "code",
   "execution_count": 3,
   "metadata": {},
   "outputs": [
    {
     "data": {
      "text/html": [
       "<div>\n",
       "<style scoped>\n",
       "    .dataframe tbody tr th:only-of-type {\n",
       "        vertical-align: middle;\n",
       "    }\n",
       "\n",
       "    .dataframe tbody tr th {\n",
       "        vertical-align: top;\n",
       "    }\n",
       "\n",
       "    .dataframe thead th {\n",
       "        text-align: right;\n",
       "    }\n",
       "</style>\n",
       "<table border=\"1\" class=\"dataframe\">\n",
       "  <thead>\n",
       "    <tr style=\"text-align: right;\">\n",
       "      <th></th>\n",
       "      <th>Date</th>\n",
       "      <th>News</th>\n",
       "    </tr>\n",
       "  </thead>\n",
       "  <tbody>\n",
       "    <tr>\n",
       "      <th>0</th>\n",
       "      <td>2016-07-01</td>\n",
       "      <td>A 117-year-old woman in Mexico City finally re...</td>\n",
       "    </tr>\n",
       "    <tr>\n",
       "      <th>1</th>\n",
       "      <td>2016-07-01</td>\n",
       "      <td>IMF chief backs Athens as permanent Olympic host</td>\n",
       "    </tr>\n",
       "    <tr>\n",
       "      <th>2</th>\n",
       "      <td>2016-07-01</td>\n",
       "      <td>The president of France says if Brexit won, so...</td>\n",
       "    </tr>\n",
       "    <tr>\n",
       "      <th>3</th>\n",
       "      <td>2016-07-01</td>\n",
       "      <td>British Man Who Must Give Police 24 Hours' Not...</td>\n",
       "    </tr>\n",
       "    <tr>\n",
       "      <th>4</th>\n",
       "      <td>2016-07-01</td>\n",
       "      <td>100+ Nobel laureates urge Greenpeace to stop o...</td>\n",
       "    </tr>\n",
       "  </tbody>\n",
       "</table>\n",
       "</div>"
      ],
      "text/plain": [
       "         Date                                               News\n",
       "0  2016-07-01  A 117-year-old woman in Mexico City finally re...\n",
       "1  2016-07-01   IMF chief backs Athens as permanent Olympic host\n",
       "2  2016-07-01  The president of France says if Brexit won, so...\n",
       "3  2016-07-01  British Man Who Must Give Police 24 Hours' Not...\n",
       "4  2016-07-01  100+ Nobel laureates urge Greenpeace to stop o..."
      ]
     },
     "execution_count": 3,
     "metadata": {},
     "output_type": "execute_result"
    }
   ],
   "source": [
    "reddit = pd.read_csv(\"data/RedditNews.csv\")\n",
    "reddit.head()"
   ]
  },
  {
   "cell_type": "code",
   "execution_count": 4,
   "metadata": {},
   "outputs": [],
   "source": [
    "dija['Date'] = pd.to_datetime(dija['Date'])\n",
    "reddit['Date'] = pd.to_datetime(reddit['Date'])"
   ]
  },
  {
   "cell_type": "markdown",
   "metadata": {
    "id": "5slwyyhCKRo9"
   },
   "source": [
    "Merge the datasets (be careful you can get multiple rows per date which is not desirable)"
   ]
  },
  {
   "cell_type": "code",
   "execution_count": 5,
   "metadata": {},
   "outputs": [],
   "source": [
    "reddit = reddit.groupby('Date')['News'].apply(' '.join).reset_index()"
   ]
  },
  {
   "cell_type": "code",
   "execution_count": 6,
   "metadata": {
    "id": "DFY6TKhGKOY4"
   },
   "outputs": [],
   "source": [
    "df = pd.merge(dija, reddit, how='inner', on='Date')"
   ]
  },
  {
   "cell_type": "code",
   "execution_count": 7,
   "metadata": {},
   "outputs": [
    {
     "data": {
      "text/html": [
       "<div>\n",
       "<style scoped>\n",
       "    .dataframe tbody tr th:only-of-type {\n",
       "        vertical-align: middle;\n",
       "    }\n",
       "\n",
       "    .dataframe tbody tr th {\n",
       "        vertical-align: top;\n",
       "    }\n",
       "\n",
       "    .dataframe thead th {\n",
       "        text-align: right;\n",
       "    }\n",
       "</style>\n",
       "<table border=\"1\" class=\"dataframe\">\n",
       "  <thead>\n",
       "    <tr style=\"text-align: right;\">\n",
       "      <th></th>\n",
       "      <th>Open</th>\n",
       "      <th>High</th>\n",
       "      <th>Low</th>\n",
       "      <th>Close</th>\n",
       "      <th>Volume</th>\n",
       "      <th>News</th>\n",
       "    </tr>\n",
       "    <tr>\n",
       "      <th>Date</th>\n",
       "      <th></th>\n",
       "      <th></th>\n",
       "      <th></th>\n",
       "      <th></th>\n",
       "      <th></th>\n",
       "      <th></th>\n",
       "    </tr>\n",
       "  </thead>\n",
       "  <tbody>\n",
       "    <tr>\n",
       "      <th>2008-08-08</th>\n",
       "      <td>11432.08984</td>\n",
       "      <td>11759.95996</td>\n",
       "      <td>11388.04004</td>\n",
       "      <td>11734.32031</td>\n",
       "      <td>212830000</td>\n",
       "      <td>b\"Georgia 'downs two Russian warplanes' as cou...</td>\n",
       "    </tr>\n",
       "    <tr>\n",
       "      <th>2008-08-11</th>\n",
       "      <td>11729.66992</td>\n",
       "      <td>11867.11035</td>\n",
       "      <td>11675.53027</td>\n",
       "      <td>11782.34961</td>\n",
       "      <td>183190000</td>\n",
       "      <td>b'Why wont America and Nato help us? If they w...</td>\n",
       "    </tr>\n",
       "    <tr>\n",
       "      <th>2008-08-12</th>\n",
       "      <td>11781.70020</td>\n",
       "      <td>11782.34961</td>\n",
       "      <td>11601.51953</td>\n",
       "      <td>11642.46973</td>\n",
       "      <td>173590000</td>\n",
       "      <td>b'Remember that adorable 9-year-old who sang a...</td>\n",
       "    </tr>\n",
       "    <tr>\n",
       "      <th>2008-08-13</th>\n",
       "      <td>11632.80957</td>\n",
       "      <td>11633.78027</td>\n",
       "      <td>11453.33984</td>\n",
       "      <td>11532.95996</td>\n",
       "      <td>182550000</td>\n",
       "      <td>b' U.S. refuses Israel weapons to attack Iran:...</td>\n",
       "    </tr>\n",
       "    <tr>\n",
       "      <th>2008-08-14</th>\n",
       "      <td>11532.07031</td>\n",
       "      <td>11718.28027</td>\n",
       "      <td>11450.88965</td>\n",
       "      <td>11615.92969</td>\n",
       "      <td>159790000</td>\n",
       "      <td>b'All the experts admit that we should legalis...</td>\n",
       "    </tr>\n",
       "  </tbody>\n",
       "</table>\n",
       "</div>"
      ],
      "text/plain": [
       "                   Open         High          Low        Close     Volume  \\\n",
       "Date                                                                        \n",
       "2008-08-08  11432.08984  11759.95996  11388.04004  11734.32031  212830000   \n",
       "2008-08-11  11729.66992  11867.11035  11675.53027  11782.34961  183190000   \n",
       "2008-08-12  11781.70020  11782.34961  11601.51953  11642.46973  173590000   \n",
       "2008-08-13  11632.80957  11633.78027  11453.33984  11532.95996  182550000   \n",
       "2008-08-14  11532.07031  11718.28027  11450.88965  11615.92969  159790000   \n",
       "\n",
       "                                                         News  \n",
       "Date                                                           \n",
       "2008-08-08  b\"Georgia 'downs two Russian warplanes' as cou...  \n",
       "2008-08-11  b'Why wont America and Nato help us? If they w...  \n",
       "2008-08-12  b'Remember that adorable 9-year-old who sang a...  \n",
       "2008-08-13  b' U.S. refuses Israel weapons to attack Iran:...  \n",
       "2008-08-14  b'All the experts admit that we should legalis...  "
      ]
     },
     "execution_count": 7,
     "metadata": {},
     "output_type": "execute_result"
    }
   ],
   "source": [
    "df.set_index(keys=[\"Date\"], inplace=True)\n",
    "df.sort_index(inplace=True)\n",
    "df.head()"
   ]
  },
  {
   "cell_type": "markdown",
   "metadata": {
    "id": "hZceBEFuiGpI"
   },
   "source": [
    "## Feauture Extraction\n",
    "\n",
    "\n",
    "1. DIJA Table\n",
    "Apply a lag of one, up to 7 days to each feature, creating a set of features representing the index price from the previous 7 days. To maintain dataset integrity, eliminate any resulting missing values at the beginning of the dataset.\n",
    "\n",
    "2. Reddit News Table\n",
    "Create a numeric representation for the news (for example average embedding or average sentiment). <b> You must create lags of the news features as well since we will not know the news for the future. </b>\n",
    "\n",
    "Hint: Use `df['column_name'].shift(period)`. Check the documentation at https://pandas.pydata.org/docs/reference/api/pandas.DataFrame.shift.html."
   ]
  },
  {
   "cell_type": "code",
   "execution_count": 8,
   "metadata": {
    "id": "S-xymWvjTFt-"
   },
   "outputs": [
    {
     "data": {
      "text/plain": [
       "[7, 6, 5, 4, 3, 2, 1]"
      ]
     },
     "execution_count": 8,
     "metadata": {},
     "output_type": "execute_result"
    }
   ],
   "source": [
    "lags = range(7, 0, -1)\n",
    "list(lags)"
   ]
  },
  {
   "cell_type": "code",
   "execution_count": 9,
   "metadata": {},
   "outputs": [
    {
     "data": {
      "text/html": [
       "<div>\n",
       "<style scoped>\n",
       "    .dataframe tbody tr th:only-of-type {\n",
       "        vertical-align: middle;\n",
       "    }\n",
       "\n",
       "    .dataframe tbody tr th {\n",
       "        vertical-align: top;\n",
       "    }\n",
       "\n",
       "    .dataframe thead th {\n",
       "        text-align: right;\n",
       "    }\n",
       "</style>\n",
       "<table border=\"1\" class=\"dataframe\">\n",
       "  <thead>\n",
       "    <tr style=\"text-align: right;\">\n",
       "      <th></th>\n",
       "      <th>Open</th>\n",
       "      <th>High</th>\n",
       "      <th>Low</th>\n",
       "      <th>Close</th>\n",
       "      <th>Volume</th>\n",
       "      <th>News</th>\n",
       "      <th>Open_7</th>\n",
       "      <th>High_7</th>\n",
       "      <th>Low_7</th>\n",
       "      <th>Close_7</th>\n",
       "      <th>...</th>\n",
       "      <th>Open_2</th>\n",
       "      <th>High_2</th>\n",
       "      <th>Low_2</th>\n",
       "      <th>Close_2</th>\n",
       "      <th>Volume_2</th>\n",
       "      <th>Open_1</th>\n",
       "      <th>High_1</th>\n",
       "      <th>Low_1</th>\n",
       "      <th>Close_1</th>\n",
       "      <th>Volume_1</th>\n",
       "    </tr>\n",
       "    <tr>\n",
       "      <th>Date</th>\n",
       "      <th></th>\n",
       "      <th></th>\n",
       "      <th></th>\n",
       "      <th></th>\n",
       "      <th></th>\n",
       "      <th></th>\n",
       "      <th></th>\n",
       "      <th></th>\n",
       "      <th></th>\n",
       "      <th></th>\n",
       "      <th></th>\n",
       "      <th></th>\n",
       "      <th></th>\n",
       "      <th></th>\n",
       "      <th></th>\n",
       "      <th></th>\n",
       "      <th></th>\n",
       "      <th></th>\n",
       "      <th></th>\n",
       "      <th></th>\n",
       "      <th></th>\n",
       "    </tr>\n",
       "  </thead>\n",
       "  <tbody>\n",
       "    <tr>\n",
       "      <th>2008-08-19</th>\n",
       "      <td>11478.08984</td>\n",
       "      <td>11478.16992</td>\n",
       "      <td>11318.50000</td>\n",
       "      <td>11348.54981</td>\n",
       "      <td>171580000</td>\n",
       "      <td>b\"Man arrested and locked up for five hours af...</td>\n",
       "      <td>11432.08984</td>\n",
       "      <td>11759.95996</td>\n",
       "      <td>11388.04004</td>\n",
       "      <td>11734.32031</td>\n",
       "      <td>...</td>\n",
       "      <td>11611.20996</td>\n",
       "      <td>11709.88965</td>\n",
       "      <td>11599.73047</td>\n",
       "      <td>11659.90039</td>\n",
       "      <td>215040000.0</td>\n",
       "      <td>11659.65039</td>\n",
       "      <td>11690.42969</td>\n",
       "      <td>11434.12012</td>\n",
       "      <td>11479.38965</td>\n",
       "      <td>156290000.0</td>\n",
       "    </tr>\n",
       "    <tr>\n",
       "      <th>2008-08-20</th>\n",
       "      <td>11345.94043</td>\n",
       "      <td>11454.15039</td>\n",
       "      <td>11290.58008</td>\n",
       "      <td>11417.42969</td>\n",
       "      <td>144880000</td>\n",
       "      <td>b'Two elderly Chinese women have been sentence...</td>\n",
       "      <td>11729.66992</td>\n",
       "      <td>11867.11035</td>\n",
       "      <td>11675.53027</td>\n",
       "      <td>11782.34961</td>\n",
       "      <td>...</td>\n",
       "      <td>11659.65039</td>\n",
       "      <td>11690.42969</td>\n",
       "      <td>11434.12012</td>\n",
       "      <td>11479.38965</td>\n",
       "      <td>156290000.0</td>\n",
       "      <td>11478.08984</td>\n",
       "      <td>11478.16992</td>\n",
       "      <td>11318.50000</td>\n",
       "      <td>11348.54981</td>\n",
       "      <td>171580000.0</td>\n",
       "    </tr>\n",
       "    <tr>\n",
       "      <th>2008-08-21</th>\n",
       "      <td>11415.23047</td>\n",
       "      <td>11476.20996</td>\n",
       "      <td>11315.57031</td>\n",
       "      <td>11430.20996</td>\n",
       "      <td>130020000</td>\n",
       "      <td>b\"British resident held in Guantanamo Bay wins...</td>\n",
       "      <td>11781.70020</td>\n",
       "      <td>11782.34961</td>\n",
       "      <td>11601.51953</td>\n",
       "      <td>11642.46973</td>\n",
       "      <td>...</td>\n",
       "      <td>11478.08984</td>\n",
       "      <td>11478.16992</td>\n",
       "      <td>11318.50000</td>\n",
       "      <td>11348.54981</td>\n",
       "      <td>171580000.0</td>\n",
       "      <td>11345.94043</td>\n",
       "      <td>11454.15039</td>\n",
       "      <td>11290.58008</td>\n",
       "      <td>11417.42969</td>\n",
       "      <td>144880000.0</td>\n",
       "    </tr>\n",
       "    <tr>\n",
       "      <th>2008-08-22</th>\n",
       "      <td>11426.79004</td>\n",
       "      <td>11632.12988</td>\n",
       "      <td>11426.79004</td>\n",
       "      <td>11628.05957</td>\n",
       "      <td>138790000</td>\n",
       "      <td>b'Syria says its ready to put a Russian missil...</td>\n",
       "      <td>11632.80957</td>\n",
       "      <td>11633.78027</td>\n",
       "      <td>11453.33984</td>\n",
       "      <td>11532.95996</td>\n",
       "      <td>...</td>\n",
       "      <td>11345.94043</td>\n",
       "      <td>11454.15039</td>\n",
       "      <td>11290.58008</td>\n",
       "      <td>11417.42969</td>\n",
       "      <td>144880000.0</td>\n",
       "      <td>11415.23047</td>\n",
       "      <td>11476.20996</td>\n",
       "      <td>11315.57031</td>\n",
       "      <td>11430.20996</td>\n",
       "      <td>130020000.0</td>\n",
       "    </tr>\n",
       "    <tr>\n",
       "      <th>2008-08-25</th>\n",
       "      <td>11626.19043</td>\n",
       "      <td>11626.26953</td>\n",
       "      <td>11362.62988</td>\n",
       "      <td>11386.25000</td>\n",
       "      <td>148610000</td>\n",
       "      <td>b\"N Korea's Kim died in 2003; replaced by look...</td>\n",
       "      <td>11532.07031</td>\n",
       "      <td>11718.28027</td>\n",
       "      <td>11450.88965</td>\n",
       "      <td>11615.92969</td>\n",
       "      <td>...</td>\n",
       "      <td>11415.23047</td>\n",
       "      <td>11476.20996</td>\n",
       "      <td>11315.57031</td>\n",
       "      <td>11430.20996</td>\n",
       "      <td>130020000.0</td>\n",
       "      <td>11426.79004</td>\n",
       "      <td>11632.12988</td>\n",
       "      <td>11426.79004</td>\n",
       "      <td>11628.05957</td>\n",
       "      <td>138790000.0</td>\n",
       "    </tr>\n",
       "  </tbody>\n",
       "</table>\n",
       "<p>5 rows × 41 columns</p>\n",
       "</div>"
      ],
      "text/plain": [
       "                   Open         High          Low        Close     Volume  \\\n",
       "Date                                                                        \n",
       "2008-08-19  11478.08984  11478.16992  11318.50000  11348.54981  171580000   \n",
       "2008-08-20  11345.94043  11454.15039  11290.58008  11417.42969  144880000   \n",
       "2008-08-21  11415.23047  11476.20996  11315.57031  11430.20996  130020000   \n",
       "2008-08-22  11426.79004  11632.12988  11426.79004  11628.05957  138790000   \n",
       "2008-08-25  11626.19043  11626.26953  11362.62988  11386.25000  148610000   \n",
       "\n",
       "                                                         News       Open_7  \\\n",
       "Date                                                                         \n",
       "2008-08-19  b\"Man arrested and locked up for five hours af...  11432.08984   \n",
       "2008-08-20  b'Two elderly Chinese women have been sentence...  11729.66992   \n",
       "2008-08-21  b\"British resident held in Guantanamo Bay wins...  11781.70020   \n",
       "2008-08-22  b'Syria says its ready to put a Russian missil...  11632.80957   \n",
       "2008-08-25  b\"N Korea's Kim died in 2003; replaced by look...  11532.07031   \n",
       "\n",
       "                 High_7        Low_7      Close_7  ...       Open_2  \\\n",
       "Date                                               ...                \n",
       "2008-08-19  11759.95996  11388.04004  11734.32031  ...  11611.20996   \n",
       "2008-08-20  11867.11035  11675.53027  11782.34961  ...  11659.65039   \n",
       "2008-08-21  11782.34961  11601.51953  11642.46973  ...  11478.08984   \n",
       "2008-08-22  11633.78027  11453.33984  11532.95996  ...  11345.94043   \n",
       "2008-08-25  11718.28027  11450.88965  11615.92969  ...  11415.23047   \n",
       "\n",
       "                 High_2        Low_2      Close_2     Volume_2       Open_1  \\\n",
       "Date                                                                          \n",
       "2008-08-19  11709.88965  11599.73047  11659.90039  215040000.0  11659.65039   \n",
       "2008-08-20  11690.42969  11434.12012  11479.38965  156290000.0  11478.08984   \n",
       "2008-08-21  11478.16992  11318.50000  11348.54981  171580000.0  11345.94043   \n",
       "2008-08-22  11454.15039  11290.58008  11417.42969  144880000.0  11415.23047   \n",
       "2008-08-25  11476.20996  11315.57031  11430.20996  130020000.0  11426.79004   \n",
       "\n",
       "                 High_1        Low_1      Close_1     Volume_1  \n",
       "Date                                                            \n",
       "2008-08-19  11690.42969  11434.12012  11479.38965  156290000.0  \n",
       "2008-08-20  11478.16992  11318.50000  11348.54981  171580000.0  \n",
       "2008-08-21  11454.15039  11290.58008  11417.42969  144880000.0  \n",
       "2008-08-22  11476.20996  11315.57031  11430.20996  130020000.0  \n",
       "2008-08-25  11632.12988  11426.79004  11628.05957  138790000.0  \n",
       "\n",
       "[5 rows x 41 columns]"
      ]
     },
     "execution_count": 9,
     "metadata": {},
     "output_type": "execute_result"
    }
   ],
   "source": [
    "for lag in lags:\n",
    "    for column in dija.columns[1:]:\n",
    "        df[f\"{column}_{lag}\"] = df[column].shift(lag)\n",
    "df.dropna(inplace=True)\n",
    "df.head()"
   ]
  },
  {
   "cell_type": "code",
   "execution_count": 10,
   "metadata": {},
   "outputs": [
    {
     "data": {
      "text/html": [
       "<div>\n",
       "<style scoped>\n",
       "    .dataframe tbody tr th:only-of-type {\n",
       "        vertical-align: middle;\n",
       "    }\n",
       "\n",
       "    .dataframe tbody tr th {\n",
       "        vertical-align: top;\n",
       "    }\n",
       "\n",
       "    .dataframe thead th {\n",
       "        text-align: right;\n",
       "    }\n",
       "</style>\n",
       "<table border=\"1\" class=\"dataframe\">\n",
       "  <thead>\n",
       "    <tr style=\"text-align: right;\">\n",
       "      <th></th>\n",
       "      <th>Close</th>\n",
       "      <th>News</th>\n",
       "      <th>Open_7</th>\n",
       "      <th>High_7</th>\n",
       "      <th>Low_7</th>\n",
       "      <th>Close_7</th>\n",
       "      <th>Volume_7</th>\n",
       "      <th>Open_6</th>\n",
       "      <th>High_6</th>\n",
       "      <th>Low_6</th>\n",
       "      <th>...</th>\n",
       "      <th>Open_2</th>\n",
       "      <th>High_2</th>\n",
       "      <th>Low_2</th>\n",
       "      <th>Close_2</th>\n",
       "      <th>Volume_2</th>\n",
       "      <th>Open_1</th>\n",
       "      <th>High_1</th>\n",
       "      <th>Low_1</th>\n",
       "      <th>Close_1</th>\n",
       "      <th>Volume_1</th>\n",
       "    </tr>\n",
       "    <tr>\n",
       "      <th>Date</th>\n",
       "      <th></th>\n",
       "      <th></th>\n",
       "      <th></th>\n",
       "      <th></th>\n",
       "      <th></th>\n",
       "      <th></th>\n",
       "      <th></th>\n",
       "      <th></th>\n",
       "      <th></th>\n",
       "      <th></th>\n",
       "      <th></th>\n",
       "      <th></th>\n",
       "      <th></th>\n",
       "      <th></th>\n",
       "      <th></th>\n",
       "      <th></th>\n",
       "      <th></th>\n",
       "      <th></th>\n",
       "      <th></th>\n",
       "      <th></th>\n",
       "      <th></th>\n",
       "    </tr>\n",
       "  </thead>\n",
       "  <tbody>\n",
       "    <tr>\n",
       "      <th>2008-08-19</th>\n",
       "      <td>11348.54981</td>\n",
       "      <td>b\"Man arrested and locked up for five hours af...</td>\n",
       "      <td>11432.08984</td>\n",
       "      <td>11759.95996</td>\n",
       "      <td>11388.04004</td>\n",
       "      <td>11734.32031</td>\n",
       "      <td>212830000.0</td>\n",
       "      <td>11729.66992</td>\n",
       "      <td>11867.11035</td>\n",
       "      <td>11675.53027</td>\n",
       "      <td>...</td>\n",
       "      <td>11611.20996</td>\n",
       "      <td>11709.88965</td>\n",
       "      <td>11599.73047</td>\n",
       "      <td>11659.90039</td>\n",
       "      <td>215040000.0</td>\n",
       "      <td>11659.65039</td>\n",
       "      <td>11690.42969</td>\n",
       "      <td>11434.12012</td>\n",
       "      <td>11479.38965</td>\n",
       "      <td>156290000.0</td>\n",
       "    </tr>\n",
       "    <tr>\n",
       "      <th>2008-08-20</th>\n",
       "      <td>11417.42969</td>\n",
       "      <td>b'Two elderly Chinese women have been sentence...</td>\n",
       "      <td>11729.66992</td>\n",
       "      <td>11867.11035</td>\n",
       "      <td>11675.53027</td>\n",
       "      <td>11782.34961</td>\n",
       "      <td>183190000.0</td>\n",
       "      <td>11781.70020</td>\n",
       "      <td>11782.34961</td>\n",
       "      <td>11601.51953</td>\n",
       "      <td>...</td>\n",
       "      <td>11659.65039</td>\n",
       "      <td>11690.42969</td>\n",
       "      <td>11434.12012</td>\n",
       "      <td>11479.38965</td>\n",
       "      <td>156290000.0</td>\n",
       "      <td>11478.08984</td>\n",
       "      <td>11478.16992</td>\n",
       "      <td>11318.50000</td>\n",
       "      <td>11348.54981</td>\n",
       "      <td>171580000.0</td>\n",
       "    </tr>\n",
       "    <tr>\n",
       "      <th>2008-08-21</th>\n",
       "      <td>11430.20996</td>\n",
       "      <td>b\"British resident held in Guantanamo Bay wins...</td>\n",
       "      <td>11781.70020</td>\n",
       "      <td>11782.34961</td>\n",
       "      <td>11601.51953</td>\n",
       "      <td>11642.46973</td>\n",
       "      <td>173590000.0</td>\n",
       "      <td>11632.80957</td>\n",
       "      <td>11633.78027</td>\n",
       "      <td>11453.33984</td>\n",
       "      <td>...</td>\n",
       "      <td>11478.08984</td>\n",
       "      <td>11478.16992</td>\n",
       "      <td>11318.50000</td>\n",
       "      <td>11348.54981</td>\n",
       "      <td>171580000.0</td>\n",
       "      <td>11345.94043</td>\n",
       "      <td>11454.15039</td>\n",
       "      <td>11290.58008</td>\n",
       "      <td>11417.42969</td>\n",
       "      <td>144880000.0</td>\n",
       "    </tr>\n",
       "    <tr>\n",
       "      <th>2008-08-22</th>\n",
       "      <td>11628.05957</td>\n",
       "      <td>b'Syria says its ready to put a Russian missil...</td>\n",
       "      <td>11632.80957</td>\n",
       "      <td>11633.78027</td>\n",
       "      <td>11453.33984</td>\n",
       "      <td>11532.95996</td>\n",
       "      <td>182550000.0</td>\n",
       "      <td>11532.07031</td>\n",
       "      <td>11718.28027</td>\n",
       "      <td>11450.88965</td>\n",
       "      <td>...</td>\n",
       "      <td>11345.94043</td>\n",
       "      <td>11454.15039</td>\n",
       "      <td>11290.58008</td>\n",
       "      <td>11417.42969</td>\n",
       "      <td>144880000.0</td>\n",
       "      <td>11415.23047</td>\n",
       "      <td>11476.20996</td>\n",
       "      <td>11315.57031</td>\n",
       "      <td>11430.20996</td>\n",
       "      <td>130020000.0</td>\n",
       "    </tr>\n",
       "    <tr>\n",
       "      <th>2008-08-25</th>\n",
       "      <td>11386.25000</td>\n",
       "      <td>b\"N Korea's Kim died in 2003; replaced by look...</td>\n",
       "      <td>11532.07031</td>\n",
       "      <td>11718.28027</td>\n",
       "      <td>11450.88965</td>\n",
       "      <td>11615.92969</td>\n",
       "      <td>159790000.0</td>\n",
       "      <td>11611.20996</td>\n",
       "      <td>11709.88965</td>\n",
       "      <td>11599.73047</td>\n",
       "      <td>...</td>\n",
       "      <td>11415.23047</td>\n",
       "      <td>11476.20996</td>\n",
       "      <td>11315.57031</td>\n",
       "      <td>11430.20996</td>\n",
       "      <td>130020000.0</td>\n",
       "      <td>11426.79004</td>\n",
       "      <td>11632.12988</td>\n",
       "      <td>11426.79004</td>\n",
       "      <td>11628.05957</td>\n",
       "      <td>138790000.0</td>\n",
       "    </tr>\n",
       "  </tbody>\n",
       "</table>\n",
       "<p>5 rows × 37 columns</p>\n",
       "</div>"
      ],
      "text/plain": [
       "                  Close                                               News  \\\n",
       "Date                                                                         \n",
       "2008-08-19  11348.54981  b\"Man arrested and locked up for five hours af...   \n",
       "2008-08-20  11417.42969  b'Two elderly Chinese women have been sentence...   \n",
       "2008-08-21  11430.20996  b\"British resident held in Guantanamo Bay wins...   \n",
       "2008-08-22  11628.05957  b'Syria says its ready to put a Russian missil...   \n",
       "2008-08-25  11386.25000  b\"N Korea's Kim died in 2003; replaced by look...   \n",
       "\n",
       "                 Open_7       High_7        Low_7      Close_7     Volume_7  \\\n",
       "Date                                                                          \n",
       "2008-08-19  11432.08984  11759.95996  11388.04004  11734.32031  212830000.0   \n",
       "2008-08-20  11729.66992  11867.11035  11675.53027  11782.34961  183190000.0   \n",
       "2008-08-21  11781.70020  11782.34961  11601.51953  11642.46973  173590000.0   \n",
       "2008-08-22  11632.80957  11633.78027  11453.33984  11532.95996  182550000.0   \n",
       "2008-08-25  11532.07031  11718.28027  11450.88965  11615.92969  159790000.0   \n",
       "\n",
       "                 Open_6       High_6        Low_6  ...       Open_2  \\\n",
       "Date                                               ...                \n",
       "2008-08-19  11729.66992  11867.11035  11675.53027  ...  11611.20996   \n",
       "2008-08-20  11781.70020  11782.34961  11601.51953  ...  11659.65039   \n",
       "2008-08-21  11632.80957  11633.78027  11453.33984  ...  11478.08984   \n",
       "2008-08-22  11532.07031  11718.28027  11450.88965  ...  11345.94043   \n",
       "2008-08-25  11611.20996  11709.88965  11599.73047  ...  11415.23047   \n",
       "\n",
       "                 High_2        Low_2      Close_2     Volume_2       Open_1  \\\n",
       "Date                                                                          \n",
       "2008-08-19  11709.88965  11599.73047  11659.90039  215040000.0  11659.65039   \n",
       "2008-08-20  11690.42969  11434.12012  11479.38965  156290000.0  11478.08984   \n",
       "2008-08-21  11478.16992  11318.50000  11348.54981  171580000.0  11345.94043   \n",
       "2008-08-22  11454.15039  11290.58008  11417.42969  144880000.0  11415.23047   \n",
       "2008-08-25  11476.20996  11315.57031  11430.20996  130020000.0  11426.79004   \n",
       "\n",
       "                 High_1        Low_1      Close_1     Volume_1  \n",
       "Date                                                            \n",
       "2008-08-19  11690.42969  11434.12012  11479.38965  156290000.0  \n",
       "2008-08-20  11478.16992  11318.50000  11348.54981  171580000.0  \n",
       "2008-08-21  11454.15039  11290.58008  11417.42969  144880000.0  \n",
       "2008-08-22  11476.20996  11315.57031  11430.20996  130020000.0  \n",
       "2008-08-25  11632.12988  11426.79004  11628.05957  138790000.0  \n",
       "\n",
       "[5 rows x 37 columns]"
      ]
     },
     "execution_count": 10,
     "metadata": {},
     "output_type": "execute_result"
    }
   ],
   "source": [
    "df.drop(columns=['Open', 'High','Low', 'Volume'], inplace=True)\n",
    "df.head()"
   ]
  },
  {
   "cell_type": "code",
   "execution_count": 11,
   "metadata": {},
   "outputs": [
    {
     "name": "stderr",
     "output_type": "stream",
     "text": [
      "No model was supplied, defaulted to distilbert/distilbert-base-uncased-finetuned-sst-2-english and revision 714eb0f (https://huggingface.co/distilbert/distilbert-base-uncased-finetuned-sst-2-english).\n",
      "Using a pipeline without specifying a model name and revision in production is not recommended.\n"
     ]
    },
    {
     "name": "stdout",
     "output_type": "stream",
     "text": [
      "WARNING:tensorflow:From C:\\Users\\user\\anaconda3\\Lib\\site-packages\\tf_keras\\src\\losses.py:2976: The name tf.losses.sparse_softmax_cross_entropy is deprecated. Please use tf.compat.v1.losses.sparse_softmax_cross_entropy instead.\n",
      "\n"
     ]
    }
   ],
   "source": [
    "sentiment_analysis = pipeline(\"sentiment-analysis\", device=0)\n",
    "results = sentiment_analysis(list(df['News']), truncation=True, max_length=512)\n",
    "df['Sentiment_News'] = [result['score'] for result in results]"
   ]
  },
  {
   "cell_type": "code",
   "execution_count": 12,
   "metadata": {},
   "outputs": [
    {
     "data": {
      "text/html": [
       "<div>\n",
       "<style scoped>\n",
       "    .dataframe tbody tr th:only-of-type {\n",
       "        vertical-align: middle;\n",
       "    }\n",
       "\n",
       "    .dataframe tbody tr th {\n",
       "        vertical-align: top;\n",
       "    }\n",
       "\n",
       "    .dataframe thead th {\n",
       "        text-align: right;\n",
       "    }\n",
       "</style>\n",
       "<table border=\"1\" class=\"dataframe\">\n",
       "  <thead>\n",
       "    <tr style=\"text-align: right;\">\n",
       "      <th></th>\n",
       "      <th>Close</th>\n",
       "      <th>News</th>\n",
       "      <th>Open_7</th>\n",
       "      <th>High_7</th>\n",
       "      <th>Low_7</th>\n",
       "      <th>Close_7</th>\n",
       "      <th>Volume_7</th>\n",
       "      <th>Open_6</th>\n",
       "      <th>High_6</th>\n",
       "      <th>Low_6</th>\n",
       "      <th>...</th>\n",
       "      <th>Close_1</th>\n",
       "      <th>Volume_1</th>\n",
       "      <th>Sentiment_News</th>\n",
       "      <th>Sentiment_News_7</th>\n",
       "      <th>Sentiment_News_6</th>\n",
       "      <th>Sentiment_News_5</th>\n",
       "      <th>Sentiment_News_4</th>\n",
       "      <th>Sentiment_News_3</th>\n",
       "      <th>Sentiment_News_2</th>\n",
       "      <th>Sentiment_News_1</th>\n",
       "    </tr>\n",
       "    <tr>\n",
       "      <th>Date</th>\n",
       "      <th></th>\n",
       "      <th></th>\n",
       "      <th></th>\n",
       "      <th></th>\n",
       "      <th></th>\n",
       "      <th></th>\n",
       "      <th></th>\n",
       "      <th></th>\n",
       "      <th></th>\n",
       "      <th></th>\n",
       "      <th></th>\n",
       "      <th></th>\n",
       "      <th></th>\n",
       "      <th></th>\n",
       "      <th></th>\n",
       "      <th></th>\n",
       "      <th></th>\n",
       "      <th></th>\n",
       "      <th></th>\n",
       "      <th></th>\n",
       "      <th></th>\n",
       "    </tr>\n",
       "  </thead>\n",
       "  <tbody>\n",
       "    <tr>\n",
       "      <th>2008-08-28</th>\n",
       "      <td>11715.17969</td>\n",
       "      <td>b\"Military help for Georgia is a 'declaration ...</td>\n",
       "      <td>11478.08984</td>\n",
       "      <td>11478.16992</td>\n",
       "      <td>11318.50000</td>\n",
       "      <td>11348.54981</td>\n",
       "      <td>171580000.0</td>\n",
       "      <td>11345.94043</td>\n",
       "      <td>11454.15039</td>\n",
       "      <td>11290.58008</td>\n",
       "      <td>...</td>\n",
       "      <td>11502.50977</td>\n",
       "      <td>120580000.0</td>\n",
       "      <td>0.996921</td>\n",
       "      <td>0.980580</td>\n",
       "      <td>0.998141</td>\n",
       "      <td>0.998392</td>\n",
       "      <td>0.998518</td>\n",
       "      <td>0.997472</td>\n",
       "      <td>0.996061</td>\n",
       "      <td>0.987873</td>\n",
       "    </tr>\n",
       "    <tr>\n",
       "      <th>2008-08-29</th>\n",
       "      <td>11543.95996</td>\n",
       "      <td>b'Russian Prime Minister Vladimir Putin has ac...</td>\n",
       "      <td>11345.94043</td>\n",
       "      <td>11454.15039</td>\n",
       "      <td>11290.58008</td>\n",
       "      <td>11417.42969</td>\n",
       "      <td>144880000.0</td>\n",
       "      <td>11415.23047</td>\n",
       "      <td>11476.20996</td>\n",
       "      <td>11315.57031</td>\n",
       "      <td>...</td>\n",
       "      <td>11715.17969</td>\n",
       "      <td>149150000.0</td>\n",
       "      <td>0.994408</td>\n",
       "      <td>0.998141</td>\n",
       "      <td>0.998392</td>\n",
       "      <td>0.998518</td>\n",
       "      <td>0.997472</td>\n",
       "      <td>0.996061</td>\n",
       "      <td>0.987873</td>\n",
       "      <td>0.996921</td>\n",
       "    </tr>\n",
       "    <tr>\n",
       "      <th>2008-09-02</th>\n",
       "      <td>11516.91992</td>\n",
       "      <td>b\"A girl filmed Israeli soldiers' brutality. S...</td>\n",
       "      <td>11415.23047</td>\n",
       "      <td>11476.20996</td>\n",
       "      <td>11315.57031</td>\n",
       "      <td>11430.20996</td>\n",
       "      <td>130020000.0</td>\n",
       "      <td>11426.79004</td>\n",
       "      <td>11632.12988</td>\n",
       "      <td>11426.79004</td>\n",
       "      <td>...</td>\n",
       "      <td>11543.95996</td>\n",
       "      <td>166910000.0</td>\n",
       "      <td>0.881824</td>\n",
       "      <td>0.998392</td>\n",
       "      <td>0.998518</td>\n",
       "      <td>0.997472</td>\n",
       "      <td>0.996061</td>\n",
       "      <td>0.987873</td>\n",
       "      <td>0.996921</td>\n",
       "      <td>0.994408</td>\n",
       "    </tr>\n",
       "    <tr>\n",
       "      <th>2008-09-03</th>\n",
       "      <td>11532.87988</td>\n",
       "      <td>b'Poland Legalization of Marijuana - two majou...</td>\n",
       "      <td>11426.79004</td>\n",
       "      <td>11632.12988</td>\n",
       "      <td>11426.79004</td>\n",
       "      <td>11628.05957</td>\n",
       "      <td>138790000.0</td>\n",
       "      <td>11626.19043</td>\n",
       "      <td>11626.26953</td>\n",
       "      <td>11362.62988</td>\n",
       "      <td>...</td>\n",
       "      <td>11516.91992</td>\n",
       "      <td>177090000.0</td>\n",
       "      <td>0.998680</td>\n",
       "      <td>0.998518</td>\n",
       "      <td>0.997472</td>\n",
       "      <td>0.996061</td>\n",
       "      <td>0.987873</td>\n",
       "      <td>0.996921</td>\n",
       "      <td>0.994408</td>\n",
       "      <td>0.881824</td>\n",
       "    </tr>\n",
       "    <tr>\n",
       "      <th>2008-09-04</th>\n",
       "      <td>11188.23047</td>\n",
       "      <td>b'Security guards beat man at soccer (football...</td>\n",
       "      <td>11626.19043</td>\n",
       "      <td>11626.26953</td>\n",
       "      <td>11362.62988</td>\n",
       "      <td>11386.25000</td>\n",
       "      <td>148610000.0</td>\n",
       "      <td>11383.55957</td>\n",
       "      <td>11436.24023</td>\n",
       "      <td>11340.41016</td>\n",
       "      <td>...</td>\n",
       "      <td>11532.87988</td>\n",
       "      <td>174250000.0</td>\n",
       "      <td>0.988975</td>\n",
       "      <td>0.997472</td>\n",
       "      <td>0.996061</td>\n",
       "      <td>0.987873</td>\n",
       "      <td>0.996921</td>\n",
       "      <td>0.994408</td>\n",
       "      <td>0.881824</td>\n",
       "      <td>0.998680</td>\n",
       "    </tr>\n",
       "  </tbody>\n",
       "</table>\n",
       "<p>5 rows × 45 columns</p>\n",
       "</div>"
      ],
      "text/plain": [
       "                  Close                                               News  \\\n",
       "Date                                                                         \n",
       "2008-08-28  11715.17969  b\"Military help for Georgia is a 'declaration ...   \n",
       "2008-08-29  11543.95996  b'Russian Prime Minister Vladimir Putin has ac...   \n",
       "2008-09-02  11516.91992  b\"A girl filmed Israeli soldiers' brutality. S...   \n",
       "2008-09-03  11532.87988  b'Poland Legalization of Marijuana - two majou...   \n",
       "2008-09-04  11188.23047  b'Security guards beat man at soccer (football...   \n",
       "\n",
       "                 Open_7       High_7        Low_7      Close_7     Volume_7  \\\n",
       "Date                                                                          \n",
       "2008-08-28  11478.08984  11478.16992  11318.50000  11348.54981  171580000.0   \n",
       "2008-08-29  11345.94043  11454.15039  11290.58008  11417.42969  144880000.0   \n",
       "2008-09-02  11415.23047  11476.20996  11315.57031  11430.20996  130020000.0   \n",
       "2008-09-03  11426.79004  11632.12988  11426.79004  11628.05957  138790000.0   \n",
       "2008-09-04  11626.19043  11626.26953  11362.62988  11386.25000  148610000.0   \n",
       "\n",
       "                 Open_6       High_6        Low_6  ...      Close_1  \\\n",
       "Date                                               ...                \n",
       "2008-08-28  11345.94043  11454.15039  11290.58008  ...  11502.50977   \n",
       "2008-08-29  11415.23047  11476.20996  11315.57031  ...  11715.17969   \n",
       "2008-09-02  11426.79004  11632.12988  11426.79004  ...  11543.95996   \n",
       "2008-09-03  11626.19043  11626.26953  11362.62988  ...  11516.91992   \n",
       "2008-09-04  11383.55957  11436.24023  11340.41016  ...  11532.87988   \n",
       "\n",
       "               Volume_1  Sentiment_News  Sentiment_News_7  Sentiment_News_6  \\\n",
       "Date                                                                          \n",
       "2008-08-28  120580000.0        0.996921          0.980580          0.998141   \n",
       "2008-08-29  149150000.0        0.994408          0.998141          0.998392   \n",
       "2008-09-02  166910000.0        0.881824          0.998392          0.998518   \n",
       "2008-09-03  177090000.0        0.998680          0.998518          0.997472   \n",
       "2008-09-04  174250000.0        0.988975          0.997472          0.996061   \n",
       "\n",
       "            Sentiment_News_5  Sentiment_News_4  Sentiment_News_3  \\\n",
       "Date                                                               \n",
       "2008-08-28          0.998392          0.998518          0.997472   \n",
       "2008-08-29          0.998518          0.997472          0.996061   \n",
       "2008-09-02          0.997472          0.996061          0.987873   \n",
       "2008-09-03          0.996061          0.987873          0.996921   \n",
       "2008-09-04          0.987873          0.996921          0.994408   \n",
       "\n",
       "            Sentiment_News_2  Sentiment_News_1  \n",
       "Date                                            \n",
       "2008-08-28          0.996061          0.987873  \n",
       "2008-08-29          0.987873          0.996921  \n",
       "2008-09-02          0.996921          0.994408  \n",
       "2008-09-03          0.994408          0.881824  \n",
       "2008-09-04          0.881824          0.998680  \n",
       "\n",
       "[5 rows x 45 columns]"
      ]
     },
     "execution_count": 12,
     "metadata": {},
     "output_type": "execute_result"
    }
   ],
   "source": [
    "for lag in lags:\n",
    "    df[f\"Sentiment_News_{lag}\"] = df['Sentiment_News'].shift(lag)\n",
    "df.dropna(inplace=True)\n",
    "df.head()"
   ]
  },
  {
   "cell_type": "code",
   "execution_count": 13,
   "metadata": {},
   "outputs": [
    {
     "data": {
      "text/html": [
       "<div>\n",
       "<style scoped>\n",
       "    .dataframe tbody tr th:only-of-type {\n",
       "        vertical-align: middle;\n",
       "    }\n",
       "\n",
       "    .dataframe tbody tr th {\n",
       "        vertical-align: top;\n",
       "    }\n",
       "\n",
       "    .dataframe thead th {\n",
       "        text-align: right;\n",
       "    }\n",
       "</style>\n",
       "<table border=\"1\" class=\"dataframe\">\n",
       "  <thead>\n",
       "    <tr style=\"text-align: right;\">\n",
       "      <th></th>\n",
       "      <th>Close</th>\n",
       "      <th>Open_7</th>\n",
       "      <th>High_7</th>\n",
       "      <th>Low_7</th>\n",
       "      <th>Close_7</th>\n",
       "      <th>Volume_7</th>\n",
       "      <th>Open_6</th>\n",
       "      <th>High_6</th>\n",
       "      <th>Low_6</th>\n",
       "      <th>Close_6</th>\n",
       "      <th>...</th>\n",
       "      <th>Low_1</th>\n",
       "      <th>Close_1</th>\n",
       "      <th>Volume_1</th>\n",
       "      <th>Sentiment_News_7</th>\n",
       "      <th>Sentiment_News_6</th>\n",
       "      <th>Sentiment_News_5</th>\n",
       "      <th>Sentiment_News_4</th>\n",
       "      <th>Sentiment_News_3</th>\n",
       "      <th>Sentiment_News_2</th>\n",
       "      <th>Sentiment_News_1</th>\n",
       "    </tr>\n",
       "    <tr>\n",
       "      <th>Date</th>\n",
       "      <th></th>\n",
       "      <th></th>\n",
       "      <th></th>\n",
       "      <th></th>\n",
       "      <th></th>\n",
       "      <th></th>\n",
       "      <th></th>\n",
       "      <th></th>\n",
       "      <th></th>\n",
       "      <th></th>\n",
       "      <th></th>\n",
       "      <th></th>\n",
       "      <th></th>\n",
       "      <th></th>\n",
       "      <th></th>\n",
       "      <th></th>\n",
       "      <th></th>\n",
       "      <th></th>\n",
       "      <th></th>\n",
       "      <th></th>\n",
       "      <th></th>\n",
       "    </tr>\n",
       "  </thead>\n",
       "  <tbody>\n",
       "    <tr>\n",
       "      <th>2008-08-28</th>\n",
       "      <td>11715.17969</td>\n",
       "      <td>11478.08984</td>\n",
       "      <td>11478.16992</td>\n",
       "      <td>11318.50000</td>\n",
       "      <td>11348.54981</td>\n",
       "      <td>171580000.0</td>\n",
       "      <td>11345.94043</td>\n",
       "      <td>11454.15039</td>\n",
       "      <td>11290.58008</td>\n",
       "      <td>11417.42969</td>\n",
       "      <td>...</td>\n",
       "      <td>11381.76953</td>\n",
       "      <td>11502.50977</td>\n",
       "      <td>120580000.0</td>\n",
       "      <td>0.980580</td>\n",
       "      <td>0.998141</td>\n",
       "      <td>0.998392</td>\n",
       "      <td>0.998518</td>\n",
       "      <td>0.997472</td>\n",
       "      <td>0.996061</td>\n",
       "      <td>0.987873</td>\n",
       "    </tr>\n",
       "    <tr>\n",
       "      <th>2008-08-29</th>\n",
       "      <td>11543.95996</td>\n",
       "      <td>11345.94043</td>\n",
       "      <td>11454.15039</td>\n",
       "      <td>11290.58008</td>\n",
       "      <td>11417.42969</td>\n",
       "      <td>144880000.0</td>\n",
       "      <td>11415.23047</td>\n",
       "      <td>11476.20996</td>\n",
       "      <td>11315.57031</td>\n",
       "      <td>11430.20996</td>\n",
       "      <td>...</td>\n",
       "      <td>11499.79004</td>\n",
       "      <td>11715.17969</td>\n",
       "      <td>149150000.0</td>\n",
       "      <td>0.998141</td>\n",
       "      <td>0.998392</td>\n",
       "      <td>0.998518</td>\n",
       "      <td>0.997472</td>\n",
       "      <td>0.996061</td>\n",
       "      <td>0.987873</td>\n",
       "      <td>0.996921</td>\n",
       "    </tr>\n",
       "    <tr>\n",
       "      <th>2008-09-02</th>\n",
       "      <td>11516.91992</td>\n",
       "      <td>11415.23047</td>\n",
       "      <td>11476.20996</td>\n",
       "      <td>11315.57031</td>\n",
       "      <td>11430.20996</td>\n",
       "      <td>130020000.0</td>\n",
       "      <td>11426.79004</td>\n",
       "      <td>11632.12988</td>\n",
       "      <td>11426.79004</td>\n",
       "      <td>11628.05957</td>\n",
       "      <td>...</td>\n",
       "      <td>11543.38965</td>\n",
       "      <td>11543.95996</td>\n",
       "      <td>166910000.0</td>\n",
       "      <td>0.998392</td>\n",
       "      <td>0.998518</td>\n",
       "      <td>0.997472</td>\n",
       "      <td>0.996061</td>\n",
       "      <td>0.987873</td>\n",
       "      <td>0.996921</td>\n",
       "      <td>0.994408</td>\n",
       "    </tr>\n",
       "    <tr>\n",
       "      <th>2008-09-03</th>\n",
       "      <td>11532.87988</td>\n",
       "      <td>11426.79004</td>\n",
       "      <td>11632.12988</td>\n",
       "      <td>11426.79004</td>\n",
       "      <td>11628.05957</td>\n",
       "      <td>138790000.0</td>\n",
       "      <td>11626.19043</td>\n",
       "      <td>11626.26953</td>\n",
       "      <td>11362.62988</td>\n",
       "      <td>11386.25000</td>\n",
       "      <td>...</td>\n",
       "      <td>11471.90039</td>\n",
       "      <td>11516.91992</td>\n",
       "      <td>177090000.0</td>\n",
       "      <td>0.998518</td>\n",
       "      <td>0.997472</td>\n",
       "      <td>0.996061</td>\n",
       "      <td>0.987873</td>\n",
       "      <td>0.996921</td>\n",
       "      <td>0.994408</td>\n",
       "      <td>0.881824</td>\n",
       "    </tr>\n",
       "    <tr>\n",
       "      <th>2008-09-04</th>\n",
       "      <td>11188.23047</td>\n",
       "      <td>11626.19043</td>\n",
       "      <td>11626.26953</td>\n",
       "      <td>11362.62988</td>\n",
       "      <td>11386.25000</td>\n",
       "      <td>148610000.0</td>\n",
       "      <td>11383.55957</td>\n",
       "      <td>11436.24023</td>\n",
       "      <td>11340.41016</td>\n",
       "      <td>11412.87012</td>\n",
       "      <td>...</td>\n",
       "      <td>11416.53027</td>\n",
       "      <td>11532.87988</td>\n",
       "      <td>174250000.0</td>\n",
       "      <td>0.997472</td>\n",
       "      <td>0.996061</td>\n",
       "      <td>0.987873</td>\n",
       "      <td>0.996921</td>\n",
       "      <td>0.994408</td>\n",
       "      <td>0.881824</td>\n",
       "      <td>0.998680</td>\n",
       "    </tr>\n",
       "  </tbody>\n",
       "</table>\n",
       "<p>5 rows × 43 columns</p>\n",
       "</div>"
      ],
      "text/plain": [
       "                  Close       Open_7       High_7        Low_7      Close_7  \\\n",
       "Date                                                                          \n",
       "2008-08-28  11715.17969  11478.08984  11478.16992  11318.50000  11348.54981   \n",
       "2008-08-29  11543.95996  11345.94043  11454.15039  11290.58008  11417.42969   \n",
       "2008-09-02  11516.91992  11415.23047  11476.20996  11315.57031  11430.20996   \n",
       "2008-09-03  11532.87988  11426.79004  11632.12988  11426.79004  11628.05957   \n",
       "2008-09-04  11188.23047  11626.19043  11626.26953  11362.62988  11386.25000   \n",
       "\n",
       "               Volume_7       Open_6       High_6        Low_6      Close_6  \\\n",
       "Date                                                                          \n",
       "2008-08-28  171580000.0  11345.94043  11454.15039  11290.58008  11417.42969   \n",
       "2008-08-29  144880000.0  11415.23047  11476.20996  11315.57031  11430.20996   \n",
       "2008-09-02  130020000.0  11426.79004  11632.12988  11426.79004  11628.05957   \n",
       "2008-09-03  138790000.0  11626.19043  11626.26953  11362.62988  11386.25000   \n",
       "2008-09-04  148610000.0  11383.55957  11436.24023  11340.41016  11412.87012   \n",
       "\n",
       "            ...        Low_1      Close_1     Volume_1  Sentiment_News_7  \\\n",
       "Date        ...                                                            \n",
       "2008-08-28  ...  11381.76953  11502.50977  120580000.0          0.980580   \n",
       "2008-08-29  ...  11499.79004  11715.17969  149150000.0          0.998141   \n",
       "2008-09-02  ...  11543.38965  11543.95996  166910000.0          0.998392   \n",
       "2008-09-03  ...  11471.90039  11516.91992  177090000.0          0.998518   \n",
       "2008-09-04  ...  11416.53027  11532.87988  174250000.0          0.997472   \n",
       "\n",
       "            Sentiment_News_6  Sentiment_News_5  Sentiment_News_4  \\\n",
       "Date                                                               \n",
       "2008-08-28          0.998141          0.998392          0.998518   \n",
       "2008-08-29          0.998392          0.998518          0.997472   \n",
       "2008-09-02          0.998518          0.997472          0.996061   \n",
       "2008-09-03          0.997472          0.996061          0.987873   \n",
       "2008-09-04          0.996061          0.987873          0.996921   \n",
       "\n",
       "            Sentiment_News_3  Sentiment_News_2  Sentiment_News_1  \n",
       "Date                                                              \n",
       "2008-08-28          0.997472          0.996061          0.987873  \n",
       "2008-08-29          0.996061          0.987873          0.996921  \n",
       "2008-09-02          0.987873          0.996921          0.994408  \n",
       "2008-09-03          0.996921          0.994408          0.881824  \n",
       "2008-09-04          0.994408          0.881824          0.998680  \n",
       "\n",
       "[5 rows x 43 columns]"
      ]
     },
     "execution_count": 13,
     "metadata": {},
     "output_type": "execute_result"
    }
   ],
   "source": [
    "df.drop(columns=['Sentiment_News', 'News'], inplace=True)\n",
    "df.head()"
   ]
  },
  {
   "cell_type": "markdown",
   "metadata": {
    "id": "tls69_PrbJKW"
   },
   "source": [
    "## Dataset Splitting\n",
    "Partition the dataset into training and testing sets with an 80:20 ratio.\n",
    "\n",
    "**WARNING: DO NOT SHUFFLE THE DATASET.**\n",
    "\n"
   ]
  },
  {
   "cell_type": "code",
   "execution_count": 14,
   "metadata": {
    "id": "PjGGGMxebeoB"
   },
   "outputs": [],
   "source": [
    "X, y = df.drop(columns=['Close']), df['Close']"
   ]
  },
  {
   "cell_type": "code",
   "execution_count": 15,
   "metadata": {},
   "outputs": [],
   "source": [
    "train_X, test_X, train_y, test_y = train_test_split(X, y, test_size=0.20, shuffle=False, random_state=0)"
   ]
  },
  {
   "cell_type": "markdown",
   "metadata": {
    "id": "lwhDHS-nRRhW"
   },
   "source": [
    "## Feauture Scaling\n",
    "Scale the extracted features using an appropriate scaler if needed."
   ]
  },
  {
   "cell_type": "code",
   "execution_count": 16,
   "metadata": {
    "id": "xlvbs68wRaVj"
   },
   "outputs": [],
   "source": [
    "scaler = MinMaxScaler()\n",
    "train_X = scaler.fit_transform(train_X)\n",
    "test_X = scaler.transform(test_X)"
   ]
  },
  {
   "cell_type": "code",
   "execution_count": 17,
   "metadata": {},
   "outputs": [],
   "source": [
    "scaler = MinMaxScaler()\n",
    "train_y = scaler.fit_transform(train_y.to_numpy().reshape(-1, 1))"
   ]
  },
  {
   "cell_type": "markdown",
   "metadata": {
    "id": "xI53ZRmfW8WG"
   },
   "source": [
    "## Feature Reshaping"
   ]
  },
  {
   "cell_type": "markdown",
   "metadata": {
    "id": "sK9naW8AXVaU"
   },
   "source": [
    "Reshape the feature dimensions into the shape `(samples, timesteps, features)`."
   ]
  },
  {
   "cell_type": "code",
   "execution_count": 18,
   "metadata": {
    "id": "3D-1-V9bW8tl"
   },
   "outputs": [
    {
     "data": {
      "text/plain": [
       "(1580, 7, 6)"
      ]
     },
     "execution_count": 18,
     "metadata": {},
     "output_type": "execute_result"
    }
   ],
   "source": [
    "lag = 7\n",
    "(train_X.shape[0], lag, (train_X.shape[1] // lag))"
   ]
  },
  {
   "cell_type": "code",
   "execution_count": 19,
   "metadata": {},
   "outputs": [],
   "source": [
    "train_X = train_X.reshape((train_X.shape[0], lag, (train_X.shape[1] // lag)))\n",
    "test_X = test_X.reshape((test_X.shape[0], lag, (test_X.shape[1] // lag)))"
   ]
  },
  {
   "cell_type": "markdown",
   "metadata": {
    "id": "VIkAR1Hibiwr"
   },
   "source": [
    "## Long Short-Term Memory (LSTM) Network\n"
   ]
  },
  {
   "cell_type": "markdown",
   "metadata": {
    "id": "qWn1pafKbnxH"
   },
   "source": [
    "Define the forecasting model using the **Keras Sequential API** (`keras.models.Sequential`), incorporating one or more LSTM layers along with additional relevant layers (`keras.layers`). Be cautious when specifying the configuration of the final layer to ensure proper model output for the forecasting task."
   ]
  },
  {
   "cell_type": "code",
   "execution_count": 47,
   "metadata": {
    "id": "IXFIrQthbnkb"
   },
   "outputs": [],
   "source": [
    "model = Sequential([\n",
    "    Input((train_X.shape[1], train_X.shape[2],)),\n",
    "    LSTM(64, activation=\"relu\", return_sequences=True),\n",
    "    LSTM(32, activation=\"relu\"),\n",
    "    Dense(1, activation=\"linear\")\n",
    "])"
   ]
  },
  {
   "cell_type": "code",
   "execution_count": 48,
   "metadata": {},
   "outputs": [
    {
     "data": {
      "text/html": [
       "<pre style=\"white-space:pre;overflow-x:auto;line-height:normal;font-family:Menlo,'DejaVu Sans Mono',consolas,'Courier New',monospace\"><span style=\"font-weight: bold\">Model: \"sequential_3\"</span>\n",
       "</pre>\n"
      ],
      "text/plain": [
       "\u001b[1mModel: \"sequential_3\"\u001b[0m\n"
      ]
     },
     "metadata": {},
     "output_type": "display_data"
    },
    {
     "data": {
      "text/html": [
       "<pre style=\"white-space:pre;overflow-x:auto;line-height:normal;font-family:Menlo,'DejaVu Sans Mono',consolas,'Courier New',monospace\">┏━━━━━━━━━━━━━━━━━━━━━━━━━━━━━━━━━━━━━━┳━━━━━━━━━━━━━━━━━━━━━━━━━━━━━┳━━━━━━━━━━━━━━━━━┓\n",
       "┃<span style=\"font-weight: bold\"> Layer (type)                         </span>┃<span style=\"font-weight: bold\"> Output Shape                </span>┃<span style=\"font-weight: bold\">         Param # </span>┃\n",
       "┡━━━━━━━━━━━━━━━━━━━━━━━━━━━━━━━━━━━━━━╇━━━━━━━━━━━━━━━━━━━━━━━━━━━━━╇━━━━━━━━━━━━━━━━━┩\n",
       "│ lstm_6 (<span style=\"color: #0087ff; text-decoration-color: #0087ff\">LSTM</span>)                        │ (<span style=\"color: #00d7ff; text-decoration-color: #00d7ff\">None</span>, <span style=\"color: #00af00; text-decoration-color: #00af00\">7</span>, <span style=\"color: #00af00; text-decoration-color: #00af00\">64</span>)               │          <span style=\"color: #00af00; text-decoration-color: #00af00\">18,176</span> │\n",
       "├──────────────────────────────────────┼─────────────────────────────┼─────────────────┤\n",
       "│ lstm_7 (<span style=\"color: #0087ff; text-decoration-color: #0087ff\">LSTM</span>)                        │ (<span style=\"color: #00d7ff; text-decoration-color: #00d7ff\">None</span>, <span style=\"color: #00af00; text-decoration-color: #00af00\">32</span>)                  │          <span style=\"color: #00af00; text-decoration-color: #00af00\">12,416</span> │\n",
       "├──────────────────────────────────────┼─────────────────────────────┼─────────────────┤\n",
       "│ dense_3 (<span style=\"color: #0087ff; text-decoration-color: #0087ff\">Dense</span>)                      │ (<span style=\"color: #00d7ff; text-decoration-color: #00d7ff\">None</span>, <span style=\"color: #00af00; text-decoration-color: #00af00\">1</span>)                   │              <span style=\"color: #00af00; text-decoration-color: #00af00\">33</span> │\n",
       "└──────────────────────────────────────┴─────────────────────────────┴─────────────────┘\n",
       "</pre>\n"
      ],
      "text/plain": [
       "┏━━━━━━━━━━━━━━━━━━━━━━━━━━━━━━━━━━━━━━┳━━━━━━━━━━━━━━━━━━━━━━━━━━━━━┳━━━━━━━━━━━━━━━━━┓\n",
       "┃\u001b[1m \u001b[0m\u001b[1mLayer (type)                        \u001b[0m\u001b[1m \u001b[0m┃\u001b[1m \u001b[0m\u001b[1mOutput Shape               \u001b[0m\u001b[1m \u001b[0m┃\u001b[1m \u001b[0m\u001b[1m        Param #\u001b[0m\u001b[1m \u001b[0m┃\n",
       "┡━━━━━━━━━━━━━━━━━━━━━━━━━━━━━━━━━━━━━━╇━━━━━━━━━━━━━━━━━━━━━━━━━━━━━╇━━━━━━━━━━━━━━━━━┩\n",
       "│ lstm_6 (\u001b[38;5;33mLSTM\u001b[0m)                        │ (\u001b[38;5;45mNone\u001b[0m, \u001b[38;5;34m7\u001b[0m, \u001b[38;5;34m64\u001b[0m)               │          \u001b[38;5;34m18,176\u001b[0m │\n",
       "├──────────────────────────────────────┼─────────────────────────────┼─────────────────┤\n",
       "│ lstm_7 (\u001b[38;5;33mLSTM\u001b[0m)                        │ (\u001b[38;5;45mNone\u001b[0m, \u001b[38;5;34m32\u001b[0m)                  │          \u001b[38;5;34m12,416\u001b[0m │\n",
       "├──────────────────────────────────────┼─────────────────────────────┼─────────────────┤\n",
       "│ dense_3 (\u001b[38;5;33mDense\u001b[0m)                      │ (\u001b[38;5;45mNone\u001b[0m, \u001b[38;5;34m1\u001b[0m)                   │              \u001b[38;5;34m33\u001b[0m │\n",
       "└──────────────────────────────────────┴─────────────────────────────┴─────────────────┘\n"
      ]
     },
     "metadata": {},
     "output_type": "display_data"
    },
    {
     "data": {
      "text/html": [
       "<pre style=\"white-space:pre;overflow-x:auto;line-height:normal;font-family:Menlo,'DejaVu Sans Mono',consolas,'Courier New',monospace\"><span style=\"font-weight: bold\"> Total params: </span><span style=\"color: #00af00; text-decoration-color: #00af00\">30,625</span> (119.63 KB)\n",
       "</pre>\n"
      ],
      "text/plain": [
       "\u001b[1m Total params: \u001b[0m\u001b[38;5;34m30,625\u001b[0m (119.63 KB)\n"
      ]
     },
     "metadata": {},
     "output_type": "display_data"
    },
    {
     "data": {
      "text/html": [
       "<pre style=\"white-space:pre;overflow-x:auto;line-height:normal;font-family:Menlo,'DejaVu Sans Mono',consolas,'Courier New',monospace\"><span style=\"font-weight: bold\"> Trainable params: </span><span style=\"color: #00af00; text-decoration-color: #00af00\">30,625</span> (119.63 KB)\n",
       "</pre>\n"
      ],
      "text/plain": [
       "\u001b[1m Trainable params: \u001b[0m\u001b[38;5;34m30,625\u001b[0m (119.63 KB)\n"
      ]
     },
     "metadata": {},
     "output_type": "display_data"
    },
    {
     "data": {
      "text/html": [
       "<pre style=\"white-space:pre;overflow-x:auto;line-height:normal;font-family:Menlo,'DejaVu Sans Mono',consolas,'Courier New',monospace\"><span style=\"font-weight: bold\"> Non-trainable params: </span><span style=\"color: #00af00; text-decoration-color: #00af00\">0</span> (0.00 B)\n",
       "</pre>\n"
      ],
      "text/plain": [
       "\u001b[1m Non-trainable params: \u001b[0m\u001b[38;5;34m0\u001b[0m (0.00 B)\n"
      ]
     },
     "metadata": {},
     "output_type": "display_data"
    }
   ],
   "source": [
    "model.summary()"
   ]
  },
  {
   "cell_type": "markdown",
   "metadata": {
    "id": "tAM-g59xSO4V"
   },
   "source": [
    "Compile the previously defined model specifying **loss function** (`keras.losses`), **optimizer** (`keras.optimizers`) and **evaluation metrics** (`keras.metics`)."
   ]
  },
  {
   "cell_type": "code",
   "execution_count": 49,
   "metadata": {
    "id": "ZBtCCy9VSQpF"
   },
   "outputs": [],
   "source": [
    "model.compile(\n",
    "    loss=\"mean_squared_error\",\n",
    "    optimizer=\"adam\",\n",
    "    metrics=[\"mean_squared_error\"],\n",
    ")"
   ]
  },
  {
   "cell_type": "markdown",
   "metadata": {
    "id": "lygUzi0QTXgZ"
   },
   "source": [
    "Train the model on the training set, specifying the **batch size** and **number of epochs** for the training process. Allocate 20% of the samples for **validation**, and ensure that the dataset remains **unshuffled** during training."
   ]
  },
  {
   "cell_type": "code",
   "execution_count": 50,
   "metadata": {
    "id": "Fkj3k5p8TXEF"
   },
   "outputs": [
    {
     "name": "stdout",
     "output_type": "stream",
     "text": [
      "Epoch 1/35\n",
      "\u001b[1m40/40\u001b[0m \u001b[32m━━━━━━━━━━━━━━━━━━━━\u001b[0m\u001b[37m\u001b[0m \u001b[1m3s\u001b[0m 11ms/step - loss: 0.0280 - mean_squared_error: 0.0280 - val_loss: 7.2632e-04 - val_mean_squared_error: 7.2632e-04\n",
      "Epoch 2/35\n",
      "\u001b[1m40/40\u001b[0m \u001b[32m━━━━━━━━━━━━━━━━━━━━\u001b[0m\u001b[37m\u001b[0m \u001b[1m0s\u001b[0m 4ms/step - loss: 0.0233 - mean_squared_error: 0.0233 - val_loss: 0.0077 - val_mean_squared_error: 0.0077\n",
      "Epoch 3/35\n",
      "\u001b[1m40/40\u001b[0m \u001b[32m━━━━━━━━━━━━━━━━━━━━\u001b[0m\u001b[37m\u001b[0m \u001b[1m0s\u001b[0m 4ms/step - loss: 0.0197 - mean_squared_error: 0.0197 - val_loss: 0.0029 - val_mean_squared_error: 0.0029\n",
      "Epoch 4/35\n",
      "\u001b[1m40/40\u001b[0m \u001b[32m━━━━━━━━━━━━━━━━━━━━\u001b[0m\u001b[37m\u001b[0m \u001b[1m0s\u001b[0m 4ms/step - loss: 0.0210 - mean_squared_error: 0.0210 - val_loss: 0.0012 - val_mean_squared_error: 0.0012\n",
      "Epoch 5/35\n",
      "\u001b[1m40/40\u001b[0m \u001b[32m━━━━━━━━━━━━━━━━━━━━\u001b[0m\u001b[37m\u001b[0m \u001b[1m0s\u001b[0m 4ms/step - loss: 0.0249 - mean_squared_error: 0.0249 - val_loss: 8.4828e-04 - val_mean_squared_error: 8.4828e-04\n",
      "Epoch 6/35\n",
      "\u001b[1m40/40\u001b[0m \u001b[32m━━━━━━━━━━━━━━━━━━━━\u001b[0m\u001b[37m\u001b[0m \u001b[1m0s\u001b[0m 4ms/step - loss: 0.0271 - mean_squared_error: 0.0271 - val_loss: 8.8891e-04 - val_mean_squared_error: 8.8891e-04\n",
      "Epoch 7/35\n",
      "\u001b[1m40/40\u001b[0m \u001b[32m━━━━━━━━━━━━━━━━━━━━\u001b[0m\u001b[37m\u001b[0m \u001b[1m0s\u001b[0m 4ms/step - loss: 0.0278 - mean_squared_error: 0.0278 - val_loss: 9.0125e-04 - val_mean_squared_error: 9.0125e-04\n",
      "Epoch 8/35\n",
      "\u001b[1m40/40\u001b[0m \u001b[32m━━━━━━━━━━━━━━━━━━━━\u001b[0m\u001b[37m\u001b[0m \u001b[1m0s\u001b[0m 5ms/step - loss: 0.0240 - mean_squared_error: 0.0240 - val_loss: 5.9511e-04 - val_mean_squared_error: 5.9511e-04\n",
      "Epoch 9/35\n",
      "\u001b[1m40/40\u001b[0m \u001b[32m━━━━━━━━━━━━━━━━━━━━\u001b[0m\u001b[37m\u001b[0m \u001b[1m0s\u001b[0m 4ms/step - loss: 0.0185 - mean_squared_error: 0.0185 - val_loss: 6.3383e-04 - val_mean_squared_error: 6.3383e-04\n",
      "Epoch 10/35\n",
      "\u001b[1m40/40\u001b[0m \u001b[32m━━━━━━━━━━━━━━━━━━━━\u001b[0m\u001b[37m\u001b[0m \u001b[1m0s\u001b[0m 4ms/step - loss: 0.0105 - mean_squared_error: 0.0105 - val_loss: 8.5146e-04 - val_mean_squared_error: 8.5146e-04\n",
      "Epoch 11/35\n",
      "\u001b[1m40/40\u001b[0m \u001b[32m━━━━━━━━━━━━━━━━━━━━\u001b[0m\u001b[37m\u001b[0m \u001b[1m0s\u001b[0m 4ms/step - loss: 0.0077 - mean_squared_error: 0.0077 - val_loss: 5.1197e-04 - val_mean_squared_error: 5.1197e-04\n",
      "Epoch 12/35\n",
      "\u001b[1m40/40\u001b[0m \u001b[32m━━━━━━━━━━━━━━━━━━━━\u001b[0m\u001b[37m\u001b[0m \u001b[1m0s\u001b[0m 5ms/step - loss: 0.0051 - mean_squared_error: 0.0051 - val_loss: 5.2030e-04 - val_mean_squared_error: 5.2030e-04\n",
      "Epoch 13/35\n",
      "\u001b[1m40/40\u001b[0m \u001b[32m━━━━━━━━━━━━━━━━━━━━\u001b[0m\u001b[37m\u001b[0m \u001b[1m0s\u001b[0m 4ms/step - loss: 0.0034 - mean_squared_error: 0.0034 - val_loss: 8.4149e-04 - val_mean_squared_error: 8.4149e-04\n",
      "Epoch 14/35\n",
      "\u001b[1m40/40\u001b[0m \u001b[32m━━━━━━━━━━━━━━━━━━━━\u001b[0m\u001b[37m\u001b[0m \u001b[1m0s\u001b[0m 4ms/step - loss: 0.0030 - mean_squared_error: 0.0030 - val_loss: 6.9374e-04 - val_mean_squared_error: 6.9374e-04\n",
      "Epoch 15/35\n",
      "\u001b[1m40/40\u001b[0m \u001b[32m━━━━━━━━━━━━━━━━━━━━\u001b[0m\u001b[37m\u001b[0m \u001b[1m0s\u001b[0m 4ms/step - loss: 0.0028 - mean_squared_error: 0.0028 - val_loss: 6.5129e-04 - val_mean_squared_error: 6.5129e-04\n",
      "Epoch 16/35\n",
      "\u001b[1m40/40\u001b[0m \u001b[32m━━━━━━━━━━━━━━━━━━━━\u001b[0m\u001b[37m\u001b[0m \u001b[1m0s\u001b[0m 4ms/step - loss: 0.0025 - mean_squared_error: 0.0025 - val_loss: 6.4114e-04 - val_mean_squared_error: 6.4114e-04\n",
      "Epoch 17/35\n",
      "\u001b[1m40/40\u001b[0m \u001b[32m━━━━━━━━━━━━━━━━━━━━\u001b[0m\u001b[37m\u001b[0m \u001b[1m0s\u001b[0m 4ms/step - loss: 0.0022 - mean_squared_error: 0.0022 - val_loss: 6.2444e-04 - val_mean_squared_error: 6.2444e-04\n",
      "Epoch 18/35\n",
      "\u001b[1m40/40\u001b[0m \u001b[32m━━━━━━━━━━━━━━━━━━━━\u001b[0m\u001b[37m\u001b[0m \u001b[1m0s\u001b[0m 5ms/step - loss: 0.0020 - mean_squared_error: 0.0020 - val_loss: 6.2239e-04 - val_mean_squared_error: 6.2239e-04\n",
      "Epoch 19/35\n",
      "\u001b[1m40/40\u001b[0m \u001b[32m━━━━━━━━━━━━━━━━━━━━\u001b[0m\u001b[37m\u001b[0m \u001b[1m0s\u001b[0m 5ms/step - loss: 0.0019 - mean_squared_error: 0.0019 - val_loss: 5.9906e-04 - val_mean_squared_error: 5.9906e-04\n",
      "Epoch 20/35\n",
      "\u001b[1m40/40\u001b[0m \u001b[32m━━━━━━━━━━━━━━━━━━━━\u001b[0m\u001b[37m\u001b[0m \u001b[1m0s\u001b[0m 5ms/step - loss: 0.0019 - mean_squared_error: 0.0019 - val_loss: 5.7531e-04 - val_mean_squared_error: 5.7531e-04\n",
      "Epoch 21/35\n",
      "\u001b[1m40/40\u001b[0m \u001b[32m━━━━━━━━━━━━━━━━━━━━\u001b[0m\u001b[37m\u001b[0m \u001b[1m0s\u001b[0m 4ms/step - loss: 0.0019 - mean_squared_error: 0.0019 - val_loss: 5.5721e-04 - val_mean_squared_error: 5.5721e-04\n",
      "Epoch 22/35\n",
      "\u001b[1m40/40\u001b[0m \u001b[32m━━━━━━━━━━━━━━━━━━━━\u001b[0m\u001b[37m\u001b[0m \u001b[1m0s\u001b[0m 5ms/step - loss: 0.0018 - mean_squared_error: 0.0018 - val_loss: 5.4373e-04 - val_mean_squared_error: 5.4373e-04\n",
      "Epoch 23/35\n",
      "\u001b[1m40/40\u001b[0m \u001b[32m━━━━━━━━━━━━━━━━━━━━\u001b[0m\u001b[37m\u001b[0m \u001b[1m0s\u001b[0m 4ms/step - loss: 0.0018 - mean_squared_error: 0.0018 - val_loss: 5.5847e-04 - val_mean_squared_error: 5.5847e-04\n",
      "Epoch 24/35\n",
      "\u001b[1m40/40\u001b[0m \u001b[32m━━━━━━━━━━━━━━━━━━━━\u001b[0m\u001b[37m\u001b[0m \u001b[1m0s\u001b[0m 4ms/step - loss: 0.0016 - mean_squared_error: 0.0016 - val_loss: 5.3663e-04 - val_mean_squared_error: 5.3663e-04\n",
      "Epoch 25/35\n",
      "\u001b[1m40/40\u001b[0m \u001b[32m━━━━━━━━━━━━━━━━━━━━\u001b[0m\u001b[37m\u001b[0m \u001b[1m0s\u001b[0m 4ms/step - loss: 0.0017 - mean_squared_error: 0.0017 - val_loss: 5.6782e-04 - val_mean_squared_error: 5.6782e-04\n",
      "Epoch 26/35\n",
      "\u001b[1m40/40\u001b[0m \u001b[32m━━━━━━━━━━━━━━━━━━━━\u001b[0m\u001b[37m\u001b[0m \u001b[1m0s\u001b[0m 4ms/step - loss: 0.0015 - mean_squared_error: 0.0015 - val_loss: 5.3007e-04 - val_mean_squared_error: 5.3007e-04\n",
      "Epoch 27/35\n",
      "\u001b[1m40/40\u001b[0m \u001b[32m━━━━━━━━━━━━━━━━━━━━\u001b[0m\u001b[37m\u001b[0m \u001b[1m0s\u001b[0m 4ms/step - loss: 0.0015 - mean_squared_error: 0.0015 - val_loss: 5.7039e-04 - val_mean_squared_error: 5.7039e-04\n",
      "Epoch 28/35\n",
      "\u001b[1m40/40\u001b[0m \u001b[32m━━━━━━━━━━━━━━━━━━━━\u001b[0m\u001b[37m\u001b[0m \u001b[1m0s\u001b[0m 4ms/step - loss: 0.0014 - mean_squared_error: 0.0014 - val_loss: 5.2476e-04 - val_mean_squared_error: 5.2476e-04\n",
      "Epoch 29/35\n",
      "\u001b[1m40/40\u001b[0m \u001b[32m━━━━━━━━━━━━━━━━━━━━\u001b[0m\u001b[37m\u001b[0m \u001b[1m0s\u001b[0m 4ms/step - loss: 0.0014 - mean_squared_error: 0.0014 - val_loss: 5.6981e-04 - val_mean_squared_error: 5.6981e-04\n",
      "Epoch 30/35\n",
      "\u001b[1m40/40\u001b[0m \u001b[32m━━━━━━━━━━━━━━━━━━━━\u001b[0m\u001b[37m\u001b[0m \u001b[1m0s\u001b[0m 5ms/step - loss: 0.0013 - mean_squared_error: 0.0013 - val_loss: 5.2969e-04 - val_mean_squared_error: 5.2969e-04\n",
      "Epoch 31/35\n",
      "\u001b[1m40/40\u001b[0m \u001b[32m━━━━━━━━━━━━━━━━━━━━\u001b[0m\u001b[37m\u001b[0m \u001b[1m0s\u001b[0m 4ms/step - loss: 0.0013 - mean_squared_error: 0.0013 - val_loss: 5.9175e-04 - val_mean_squared_error: 5.9175e-04\n",
      "Epoch 32/35\n",
      "\u001b[1m40/40\u001b[0m \u001b[32m━━━━━━━━━━━━━━━━━━━━\u001b[0m\u001b[37m\u001b[0m \u001b[1m0s\u001b[0m 4ms/step - loss: 0.0012 - mean_squared_error: 0.0012 - val_loss: 5.5950e-04 - val_mean_squared_error: 5.5950e-04\n",
      "Epoch 33/35\n",
      "\u001b[1m40/40\u001b[0m \u001b[32m━━━━━━━━━━━━━━━━━━━━\u001b[0m\u001b[37m\u001b[0m \u001b[1m0s\u001b[0m 4ms/step - loss: 0.0012 - mean_squared_error: 0.0012 - val_loss: 6.0197e-04 - val_mean_squared_error: 6.0197e-04\n",
      "Epoch 34/35\n",
      "\u001b[1m40/40\u001b[0m \u001b[32m━━━━━━━━━━━━━━━━━━━━\u001b[0m\u001b[37m\u001b[0m \u001b[1m0s\u001b[0m 4ms/step - loss: 0.0011 - mean_squared_error: 0.0011 - val_loss: 5.7503e-04 - val_mean_squared_error: 5.7503e-04\n",
      "Epoch 35/35\n",
      "\u001b[1m40/40\u001b[0m \u001b[32m━━━━━━━━━━━━━━━━━━━━\u001b[0m\u001b[37m\u001b[0m \u001b[1m0s\u001b[0m 4ms/step - loss: 0.0011 - mean_squared_error: 0.0011 - val_loss: 6.1359e-04 - val_mean_squared_error: 6.1359e-04\n"
     ]
    }
   ],
   "source": [
    "history = model.fit(train_X, train_y, validation_split=0.20, epochs=35, batch_size=32, shuffle=False)"
   ]
  },
  {
   "cell_type": "markdown",
   "metadata": {
    "id": "BgK9j0GrUs2l"
   },
   "source": [
    "Create a line plot illustrating both the **training** and **validation loss** over the training epochs."
   ]
  },
  {
   "cell_type": "code",
   "execution_count": 51,
   "metadata": {
    "id": "2u1RylwfUtR0"
   },
   "outputs": [
    {
     "data": {
      "text/plain": [
       "<Axes: >"
      ]
     },
     "execution_count": 51,
     "metadata": {},
     "output_type": "execute_result"
    },
    {
     "data": {
      "image/png": "[encoded data removed]",
      "text/plain": [
       "<Figure size 640x480 with 1 Axes>"
      ]
     },
     "metadata": {},
     "output_type": "display_data"
    }
   ],
   "source": [
    "sns.lineplot(history.history[\"loss\"], label=\"loss\")\n",
    "sns.lineplot(history.history[\"val_loss\"], label=\"val_loss\")"
   ]
  },
  {
   "cell_type": "markdown",
   "metadata": {
    "id": "gyXZwAVab8Cp"
   },
   "source": [
    "Use the trained model to make predictions for the test set."
   ]
  },
  {
   "cell_type": "code",
   "execution_count": 52,
   "metadata": {
    "id": "EvMfVum6b_9b"
   },
   "outputs": [
    {
     "name": "stdout",
     "output_type": "stream",
     "text": [
      "\u001b[1m13/13\u001b[0m \u001b[32m━━━━━━━━━━━━━━━━━━━━\u001b[0m\u001b[37m\u001b[0m \u001b[1m0s\u001b[0m 15ms/step\n"
     ]
    }
   ],
   "source": [
    "pred_y = model.predict(test_X)"
   ]
  },
  {
   "cell_type": "code",
   "execution_count": 53,
   "metadata": {},
   "outputs": [],
   "source": [
    "pred_y = scaler.inverse_transform(pred_y)"
   ]
  },
  {
   "cell_type": "markdown",
   "metadata": {
    "id": "3VxAvDPtcNCh"
   },
   "source": [
    "Assess the performance of the model by using different metrics provided by the `scikit-learn` library."
   ]
  },
  {
   "cell_type": "code",
   "execution_count": 54,
   "metadata": {
    "id": "V4axpktycQhp"
   },
   "outputs": [
    {
     "data": {
      "text/plain": [
       "0.6960390286117186"
      ]
     },
     "execution_count": 54,
     "metadata": {},
     "output_type": "execute_result"
    }
   ],
   "source": [
    "r2_score(test_y, pred_y)"
   ]
  },
  {
   "cell_type": "markdown",
   "metadata": {
    "id": "X01Q7Pb9VOAI"
   },
   "source": [
    "Create a line plot in order to compare the actual and predicted mean temperatures for the test set."
   ]
  },
  {
   "cell_type": "code",
   "execution_count": 55,
   "metadata": {
    "id": "oeS852CkVPVJ"
   },
   "outputs": [
    {
     "data": {
      "text/plain": [
       "<Axes: xlabel='Date'>"
      ]
     },
     "execution_count": 55,
     "metadata": {},
     "output_type": "execute_result"
    },
    {
     "data": {
      "image/png": "[encoded data removed]",
      "text/plain": [
       "<Figure size 640x480 with 1 Axes>"
      ]
     },
     "metadata": {},
     "output_type": "display_data"
    }
   ],
   "source": [
    "sns.lineplot(x=test_y.index, y=test_y.values)\n",
    "sns.lineplot(x=test_y.index, y=pred_y.flatten())"
   ]
  }
 ],
 "metadata": {
  "accelerator": "GPU",
  "colab": {
   "gpuType": "T4",
   "provenance": []
  },
  "kernelspec": {
   "display_name": "Python 3 (ipykernel)",
   "language": "python",
   "name": "python3"
  },
  "language_info": {
   "codemirror_mode": {
    "name": "ipython",
    "version": 3
   },
   "file_extension": ".py",
   "mimetype": "text/x-python",
   "name": "python",
   "nbconvert_exporter": "python",
   "pygments_lexer": "ipython3",
   "version": "3.12.7"
  }
 },
 "nbformat": 4,
 "nbformat_minor": 4
}
