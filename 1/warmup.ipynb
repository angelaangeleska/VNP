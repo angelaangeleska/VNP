{
 "cells": [
  {
   "cell_type": "markdown",
   "metadata": {
    "id": "skreU4ZawqQ_"
   },
   "source": [
    "# Lab Exercise 1. Scraping Static Websites\n"
   ]
  },
  {
   "cell_type": "markdown",
   "metadata": {
    "id": "VzAWoqz5wwT9"
   },
   "source": [
    "This is the warmup task for the first laboratory exercise. It consists of scraping static Websites with BeautifulSoap.\n",
    "\n",
    " It should be completed at home and presented at the laboratory."
   ]
  },
  {
   "cell_type": "markdown",
   "metadata": {
    "id": "qpdvbrsow5EE"
   },
   "source": [
    "**Total points: 2**"
   ]
  },
  {
   "cell_type": "markdown",
   "metadata": {
    "id": "6eDmGLrXx0t8"
   },
   "source": [
    "### Task Description"
   ]
  },
  {
   "cell_type": "markdown",
   "metadata": {
    "id": "RG42MHsDxAP_"
   },
   "source": [
    "Scrape the information about the products on the following page:\n",
    "https://clevershop.mk/product-category/mobilni-laptopi-i-tableti/"
   ]
  },
  {
   "cell_type": "markdown",
   "metadata": {
    "id": "uoTcMRl4xP3G"
   },
   "source": [
    "For each product scrape:\n",
    "\n",
    "\n",
    "*   Product title (selector `'.wd-entities-title'`)\n",
    "*   Product regular price (selector `'.woocommerce-Price-amount'`)\n",
    "*   Product discount price (if available), same selector as regular price\n",
    "*   URL to the product page\n",
    "*   Add to cart button URL\n",
    "\n",
    "***Help: There are multiple product pages, for each page you need to send a separate request***\n"
   ]
  },
  {
   "cell_type": "markdown",
   "metadata": {
    "id": "tc0QvUR8xxwt"
   },
   "source": [
    "Save the results as a DataFrame object"
   ]
  },
  {
   "cell_type": "markdown",
   "metadata": {
    "id": "peGjiUZLzbZt"
   },
   "source": [
    "You can add as many code cells as you need."
   ]
  },
  {
   "cell_type": "markdown",
   "metadata": {
    "id": "b7U-kwKSzUIV"
   },
   "source": [
    "________________________________________________________________"
   ]
  },
  {
   "cell_type": "markdown",
   "metadata": {
    "id": "yn5gyMzNx5Vk"
   },
   "source": [
    "### Requirements"
   ]
  },
  {
   "cell_type": "markdown",
   "metadata": {
    "id": "WZ3ifNLhx7tk"
   },
   "source": [
    "Import libraries and modules that you are going to use"
   ]
  },
  {
   "cell_type": "code",
   "execution_count": 9,
   "metadata": {
    "ExecuteTime": {
     "end_time": "2024-10-31T00:35:47.411502Z",
     "start_time": "2024-10-31T00:35:47.409085Z"
    },
    "id": "GQ3zSO8WyJC_"
   },
   "outputs": [],
   "source": [
    "import requests\n",
    "from bs4 import BeautifulSoup"
   ]
  },
  {
   "cell_type": "markdown",
   "metadata": {
    "id": "fsR71mugyJP7"
   },
   "source": [
    "### Send HTTP request to the target Website"
   ]
  },
  {
   "cell_type": "code",
   "execution_count": 10,
   "metadata": {
    "ExecuteTime": {
     "end_time": "2024-10-31T00:35:47.946941Z",
     "start_time": "2024-10-31T00:35:47.435902Z"
    },
    "id": "61ImGen2yQff"
   },
   "outputs": [],
   "source": [
    "url = 'https://clevershop.mk/product-category/mobilni-laptopi-i-tableti/'\n",
    "response = requests.get(url)"
   ]
  },
  {
   "cell_type": "markdown",
   "metadata": {
    "id": "lFnRsSVJyXit"
   },
   "source": [
    "check the response status code"
   ]
  },
  {
   "cell_type": "code",
   "execution_count": 11,
   "metadata": {
    "ExecuteTime": {
     "end_time": "2024-10-31T00:35:47.986050Z",
     "start_time": "2024-10-31T00:35:47.982876Z"
    },
    "id": "xy6xJ3RGyXUN"
   },
   "outputs": [
    {
     "data": {
      "text/plain": [
       "200"
      ]
     },
     "execution_count": 11,
     "metadata": {},
     "output_type": "execute_result"
    }
   ],
   "source": [
    "response.status_code"
   ]
  },
  {
   "cell_type": "markdown",
   "metadata": {
    "id": "-MykzAV4yQ4j"
   },
   "source": [
    "### Parse the response content with BeautifulSoap"
   ]
  },
  {
   "cell_type": "code",
   "execution_count": 12,
   "metadata": {
    "ExecuteTime": {
     "end_time": "2024-10-31T00:35:48.078108Z",
     "start_time": "2024-10-31T00:35:48.020908Z"
    },
    "id": "F92A3wvlyUBc"
   },
   "outputs": [],
   "source": [
    "soup = BeautifulSoup(response.text, 'html.parser')\n",
    "\n",
    "# print(soup)"
   ]
  },
  {
   "cell_type": "markdown",
   "metadata": {
    "id": "F8hifMvVycfV"
   },
   "source": [
    "### Extract data from the BeautifulSoap object using any selectors, attribute identifiers, etc."
   ]
  },
  {
   "cell_type": "markdown",
   "metadata": {
    "id": "sHgfHr61y2tD"
   },
   "source": [
    "* Product title (selector '.wd-entities-title')\n",
    "* Product regular price (selector '.woocommerce-Price-amount')\n",
    "* Product discount price (if available), same selector as regular price\n",
    "* URL to the product page\n",
    "* Add to cart button URL"
   ]
  },
  {
   "cell_type": "markdown",
   "metadata": {
    "id": "gToy7d5Jy9Qk"
   },
   "source": [
    "Repeat the extraction process for each page of products"
   ]
  },
  {
   "cell_type": "code",
   "execution_count": 13,
   "metadata": {
    "ExecuteTime": {
     "end_time": "2024-10-31T00:35:56.839615Z",
     "start_time": "2024-10-31T00:35:48.117410Z"
    },
    "id": "UV1kZCRyycQF"
   },
   "outputs": [],
   "source": [
    "list_of_products = []\n",
    "\n",
    "page_numbers = soup.select('.wd-pagination li')\n",
    "number_of_pages = int(page_numbers[-2].text)\n",
    "\n",
    "for i in range(number_of_pages):\n",
    "    # print(i)\n",
    "    products = soup.select('.product')\n",
    "\n",
    "    for product in products:\n",
    "        tmp = dict()\n",
    "        tmp['ProductTitle'] = product.select_one('.wd-entities-title').text\n",
    "        prices = product.select('bdi')\n",
    "        tmp['RegularPrice'] = int(prices[0].text.split('\\xa0ден')[0].replace('.', ''))\n",
    "        if len(prices) > 1:\n",
    "            tmp['DiscountPrice'] = int(prices[1].text.split('\\xa0ден')[0].replace('.', ''))\n",
    "        tmp['ProductURL'] = product.select_one('.wd-entities-title a')['href']\n",
    "        tmp['AddToCartURL'] = url + product.select_one('.add_to_cart_button')['href']\n",
    "        list_of_products.append(tmp) \n",
    "        \n",
    "    if i != number_of_pages-1:\n",
    "        response = requests.get(soup.select_one('.next')['href'])\n",
    "        soup = BeautifulSoup(response.text, 'html.parser')\n",
    "\n",
    "# print(len(list_of_products))"
   ]
  },
  {
   "cell_type": "markdown",
   "metadata": {
    "id": "R4OIUt0AynuU"
   },
   "source": [
    "### Create a pandas DataFrame with the scraped products"
   ]
  },
  {
   "cell_type": "code",
   "execution_count": 14,
   "metadata": {
    "ExecuteTime": {
     "end_time": "2024-10-31T00:35:56.873844Z",
     "start_time": "2024-10-31T00:35:56.871525Z"
    },
    "id": "-wCzGEj8yrKU"
   },
   "outputs": [],
   "source": [
    "import pandas as pd"
   ]
  },
  {
   "cell_type": "code",
   "execution_count": 15,
   "metadata": {
    "ExecuteTime": {
     "end_time": "2024-10-31T00:35:56.914636Z",
     "start_time": "2024-10-31T00:35:56.906086Z"
    }
   },
   "outputs": [
    {
     "data": {
      "text/html": [
       "<div>\n",
       "<style scoped>\n",
       "    .dataframe tbody tr th:only-of-type {\n",
       "        vertical-align: middle;\n",
       "    }\n",
       "\n",
       "    .dataframe tbody tr th {\n",
       "        vertical-align: top;\n",
       "    }\n",
       "\n",
       "    .dataframe thead th {\n",
       "        text-align: right;\n",
       "    }\n",
       "</style>\n",
       "<table border=\"1\" class=\"dataframe\">\n",
       "  <thead>\n",
       "    <tr style=\"text-align: right;\">\n",
       "      <th></th>\n",
       "      <th>ProductTitle</th>\n",
       "      <th>RegularPrice</th>\n",
       "      <th>ProductURL</th>\n",
       "      <th>AddToCartURL</th>\n",
       "      <th>DiscountPrice</th>\n",
       "    </tr>\n",
       "  </thead>\n",
       "  <tbody>\n",
       "    <tr>\n",
       "      <th>0</th>\n",
       "      <td>Acer A315-23-A7KD</td>\n",
       "      <td>17590</td>\n",
       "      <td>https://clevershop.mk/product/acer-a315-23-a7kd/</td>\n",
       "      <td>https://clevershop.mk/product-category/mobilni...</td>\n",
       "      <td>NaN</td>\n",
       "    </tr>\n",
       "    <tr>\n",
       "      <th>1</th>\n",
       "      <td>Acer A315-23-R5P2</td>\n",
       "      <td>27490</td>\n",
       "      <td>https://clevershop.mk/product/acer-a315-23-r5p2/</td>\n",
       "      <td>https://clevershop.mk/product-category/mobilni...</td>\n",
       "      <td>NaN</td>\n",
       "    </tr>\n",
       "    <tr>\n",
       "      <th>2</th>\n",
       "      <td>ACER Aspire 1 A115-22</td>\n",
       "      <td>18999</td>\n",
       "      <td>https://clevershop.mk/product/acer-aspire-1-nx...</td>\n",
       "      <td>https://clevershop.mk/product-category/mobilni...</td>\n",
       "      <td>15999.0</td>\n",
       "    </tr>\n",
       "    <tr>\n",
       "      <th>3</th>\n",
       "      <td>Acer Aspire 3 A315-23-R26A</td>\n",
       "      <td>29990</td>\n",
       "      <td>https://clevershop.mk/product/acer-aspire-3-a3...</td>\n",
       "      <td>https://clevershop.mk/product-category/mobilni...</td>\n",
       "      <td>NaN</td>\n",
       "    </tr>\n",
       "    <tr>\n",
       "      <th>4</th>\n",
       "      <td>Acer Aspire 3 A315-58-33WK</td>\n",
       "      <td>24490</td>\n",
       "      <td>https://clevershop.mk/product/21498/</td>\n",
       "      <td>https://clevershop.mk/product-category/mobilni...</td>\n",
       "      <td>NaN</td>\n",
       "    </tr>\n",
       "    <tr>\n",
       "      <th>...</th>\n",
       "      <td>...</td>\n",
       "      <td>...</td>\n",
       "      <td>...</td>\n",
       "      <td>...</td>\n",
       "      <td>...</td>\n",
       "    </tr>\n",
       "    <tr>\n",
       "      <th>315</th>\n",
       "      <td>Monitor 27 Philips 272E1GAJ/00 VA 1ms 144Hz</td>\n",
       "      <td>12890</td>\n",
       "      <td>https://clevershop.mk/product/monitor-27-phili...</td>\n",
       "      <td>https://clevershop.mk/product-category/mobilni...</td>\n",
       "      <td>NaN</td>\n",
       "    </tr>\n",
       "    <tr>\n",
       "      <th>316</th>\n",
       "      <td>Philips 24″ 243V7QDSB</td>\n",
       "      <td>8390</td>\n",
       "      <td>https://clevershop.mk/product/philips-24%e2%80...</td>\n",
       "      <td>https://clevershop.mk/product-category/mobilni...</td>\n",
       "      <td>NaN</td>\n",
       "    </tr>\n",
       "    <tr>\n",
       "      <th>317</th>\n",
       "      <td>Philips 27″ 278E1A/00 4K UHD IPS</td>\n",
       "      <td>18990</td>\n",
       "      <td>https://clevershop.mk/product/hp-27%e2%80%b3-2...</td>\n",
       "      <td>https://clevershop.mk/product-category/mobilni...</td>\n",
       "      <td>NaN</td>\n",
       "    </tr>\n",
       "    <tr>\n",
       "      <th>318</th>\n",
       "      <td>Philips 279C9-00 MON LED 27″ 3840 x 2160 5Ms 6...</td>\n",
       "      <td>26990</td>\n",
       "      <td>https://clevershop.mk/product/philips-279c9-00...</td>\n",
       "      <td>https://clevershop.mk/product-category/mobilni...</td>\n",
       "      <td>NaN</td>\n",
       "    </tr>\n",
       "    <tr>\n",
       "      <th>319</th>\n",
       "      <td>Xiaomi Redmi AirDots Wireless</td>\n",
       "      <td>990</td>\n",
       "      <td>https://clevershop.mk/product/redmi-headphones/</td>\n",
       "      <td>https://clevershop.mk/product-category/mobilni...</td>\n",
       "      <td>NaN</td>\n",
       "    </tr>\n",
       "  </tbody>\n",
       "</table>\n",
       "<p>320 rows × 5 columns</p>\n",
       "</div>"
      ],
      "text/plain": [
       "                                          ProductTitle  RegularPrice  \\\n",
       "0                                    Acer A315-23-A7KD         17590   \n",
       "1                                    Acer A315-23-R5P2         27490   \n",
       "2                                ACER Aspire 1 A115-22         18999   \n",
       "3                           Acer Aspire 3 A315-23-R26A         29990   \n",
       "4                           Acer Aspire 3 A315-58-33WK         24490   \n",
       "..                                                 ...           ...   \n",
       "315        Monitor 27 Philips 272E1GAJ/00 VA 1ms 144Hz         12890   \n",
       "316                              Philips 24″ 243V7QDSB          8390   \n",
       "317                   Philips 27″ 278E1A/00 4K UHD IPS         18990   \n",
       "318  Philips 279C9-00 MON LED 27″ 3840 x 2160 5Ms 6...         26990   \n",
       "319                      Xiaomi Redmi AirDots Wireless           990   \n",
       "\n",
       "                                            ProductURL  \\\n",
       "0     https://clevershop.mk/product/acer-a315-23-a7kd/   \n",
       "1     https://clevershop.mk/product/acer-a315-23-r5p2/   \n",
       "2    https://clevershop.mk/product/acer-aspire-1-nx...   \n",
       "3    https://clevershop.mk/product/acer-aspire-3-a3...   \n",
       "4                 https://clevershop.mk/product/21498/   \n",
       "..                                                 ...   \n",
       "315  https://clevershop.mk/product/monitor-27-phili...   \n",
       "316  https://clevershop.mk/product/philips-24%e2%80...   \n",
       "317  https://clevershop.mk/product/hp-27%e2%80%b3-2...   \n",
       "318  https://clevershop.mk/product/philips-279c9-00...   \n",
       "319    https://clevershop.mk/product/redmi-headphones/   \n",
       "\n",
       "                                          AddToCartURL  DiscountPrice  \n",
       "0    https://clevershop.mk/product-category/mobilni...            NaN  \n",
       "1    https://clevershop.mk/product-category/mobilni...            NaN  \n",
       "2    https://clevershop.mk/product-category/mobilni...        15999.0  \n",
       "3    https://clevershop.mk/product-category/mobilni...            NaN  \n",
       "4    https://clevershop.mk/product-category/mobilni...            NaN  \n",
       "..                                                 ...            ...  \n",
       "315  https://clevershop.mk/product-category/mobilni...            NaN  \n",
       "316  https://clevershop.mk/product-category/mobilni...            NaN  \n",
       "317  https://clevershop.mk/product-category/mobilni...            NaN  \n",
       "318  https://clevershop.mk/product-category/mobilni...            NaN  \n",
       "319  https://clevershop.mk/product-category/mobilni...            NaN  \n",
       "\n",
       "[320 rows x 5 columns]"
      ]
     },
     "execution_count": 15,
     "metadata": {},
     "output_type": "execute_result"
    }
   ],
   "source": [
    "df = pd.DataFrame(list_of_products)\n",
    "df"
   ]
  },
  {
   "cell_type": "markdown",
   "metadata": {
    "id": "Rxbi54EOyrb8"
   },
   "source": [
    "Save the dataframe as `.csv`"
   ]
  },
  {
   "cell_type": "code",
   "execution_count": 16,
   "metadata": {
    "ExecuteTime": {
     "end_time": "2024-10-31T00:35:56.973879Z",
     "start_time": "2024-10-31T00:35:56.969083Z"
    },
    "id": "TLNfZQ07yuQE"
   },
   "outputs": [],
   "source": [
    "df.to_csv(\"data/products_lab1.csv\", index=False)"
   ]
  }
 ],
 "metadata": {
  "colab": {
   "provenance": []
  },
  "kernelspec": {
   "display_name": "Python 3 (ipykernel)",
   "language": "python",
   "name": "python3"
  },
  "language_info": {
   "codemirror_mode": {
    "name": "ipython",
    "version": 3
   },
   "file_extension": ".py",
   "mimetype": "text/x-python",
   "name": "python",
   "nbconvert_exporter": "python",
   "pygments_lexer": "ipython3",
   "version": "3.12.3"
  }
 },
 "nbformat": 4,
 "nbformat_minor": 4
}
